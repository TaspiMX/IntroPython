{
 "cells": [
  {
   "cell_type": "markdown",
   "id": "822fc295-d7c2-414a-bd16-83ba9c6370f6",
   "metadata": {
    "editable": true,
    "slideshow": {
     "slide_type": "slide"
    },
    "tags": []
   },
   "source": [
    "# Desarrollo y Plataformas Utilizadas en las Sociedades Fintech"
   ]
  },
  {
   "cell_type": "markdown",
   "id": "38de9731-dcf2-42c4-a8e3-947881c26883",
   "metadata": {
    "editable": true,
    "slideshow": {
     "slide_type": "subslide"
    },
    "tags": []
   },
   "source": [
    "## Objetivos\n",
    "1. Conocer principios básicos de programación en lenguaje Python\n",
    "2. Conocer las librerías de análisis de datos y graficas\n",
    "3. Conocer conceptos de BlockChain y otras innovaciones\n",
    "4. Conocer el ecosistema Fintech en México"
   ]
  },
  {
   "attachments": {},
   "cell_type": "markdown",
   "id": "dc4adf72-858e-4219-974c-87eaf4983d43",
   "metadata": {
    "editable": true,
    "slideshow": {
     "slide_type": "subslide"
    },
    "tags": []
   },
   "source": [
    "## Bienvenidos\n",
    "<img src=\"images/calendario.png\">"
   ]
  },
  {
   "cell_type": "markdown",
   "id": "3f7191cf-0735-4781-8b55-8957a3f3b9cb",
   "metadata": {
    "editable": true,
    "slideshow": {
     "slide_type": "subslide"
    },
    "tags": []
   },
   "source": [
    "## Metodología\n",
    "\n",
    "**La mejor forma de aprender programación es: PROGRAMANDO**\n",
    "\n",
    "<img src=\"images/carrey.gif\" width=\"30%\">\n",
    "\n",
    "Para las clases de programación Python, utilizaremos un ambiente en la nube.\n",
    "1. **Cuadernos de ejercicios Jupyter Lab**: Permiten combinar texto y código en tiempo real\n",
    "2. **Plataforma MyBinder**: Genera un ambiente de programación\n",
    "3. Cada participante tendrá su propio ambiente de trabajo\n",
    "\n",
    "<div class=\"alert alert-block alert-warning\">\n",
    "<b>Importante:</b> El ambiente de trabajo se \"apaga\" después de 10min de inactividad y toda la información hasta el momento se pierde. Si desean mantener su trabajo, es necesario que guarden sus archivos de trabajo en forma local.\n",
    "</div>\n"
   ]
  },
  {
   "cell_type": "markdown",
   "id": "b17a201b-8d57-4946-a5b3-709fd3aa1784",
   "metadata": {
    "editable": true,
    "slideshow": {
     "slide_type": "slide"
    },
    "tags": []
   },
   "source": [
    "# Introducción a Python\n",
    "\n",
    "<img src=\"images/python.png\" width=\"30%\">"
   ]
  },
  {
   "cell_type": "markdown",
   "id": "56b5ed96-d1c5-46a3-900a-02fee3d2fb0d",
   "metadata": {
    "editable": true,
    "jp-MarkdownHeadingCollapsed": true,
    "slideshow": {
     "slide_type": "subslide"
    },
    "tags": []
   },
   "source": [
    "## Top 10 en Lenguajes \n",
    "\n",
    "PYPL PopularitY of Programming Language Index\n",
    "\n",
    "<table>\r\n",
    "<thead>\r\n",
    "  <tr>\r\n",
    "    <th>Posición<br></th>\r\n",
    "    <th>Languaje</th>\r\n",
    "    <th>Participación</th>\r\n",
    "  </tr>\r\n",
    "</thead>\r\n",
    "<tbody>\r\n",
    "  <tr>\r\n",
    "    <td>1</td>\r\n",
    "    <td>Python</td>\r\n",
    "    <td>28.09 %</td>\r\n",
    "  </tr>\r\n",
    "  <tr>\r\n",
    "    <td>2</td>\r\n",
    "    <td>Java</td>\r\n",
    "    <td>15.81 %</td>\r\n",
    "  </tr>\r\n",
    "  <tr>\r\n",
    "    <td>3</td>\r\n",
    "    <td>JavaScript</td>\r\n",
    "    <td>8.93 %</td>\r\n",
    "  </tr>\r\n",
    "  <tr>\r\n",
    "    <td>4</td>\r\n",
    "    <td>C/C++</td>\r\n",
    "    <td>6.8 %</td>\r\n",
    "  </tr>\r\n",
    "  <tr>\r\n",
    "    <td>5</td>\r\n",
    "    <td>C#</td>\r\n",
    "    <td>6.64 %</td>\r\n",
    "  </tr>\r\n",
    "  <tr>\r\n",
    "    <td>6</td>\r\n",
    "    <td>PHP</td>\r\n",
    "    <td>4.6 %</td>\r\n",
    "  </tr>\r\n",
    "  <tr>\r\n",
    "    <td>7</td>\r\n",
    "    <td>R</td>\r\n",
    "    <td>4.53 %</td>\r\n",
    "  </tr>\r\n",
    "  <tr>\r\n",
    "    <td>8</td>\r\n",
    "    <td>TypeScript</td>\r\n",
    "    <td>2.81 %</td>\r\n",
    "  </tr>\r\n",
    "  <tr>\r\n",
    "    <td>9</td>\r\n",
    "    <td>Swift</td>\r\n",
    "    <td>2.8 /td>\r\n",
    "  </tr>\r\n",
    "  <tr>\r\n",
    "    <td>10</td>\r\n",
    "    <td>Object\n",
    "\n",
    "ive-C</td>\r\n",
    "    <td>2.33 %</td>\r\n",
    "  </tr>\r\n",
    "</tbody>\r\n",
    "</table>"
   ]
  },
  {
   "cell_type": "markdown",
   "id": "5443c19c-e944-4bd4-a773-901ca4a35be1",
   "metadata": {
    "editable": true,
    "slideshow": {
     "slide_type": "slide"
    },
    "tags": []
   },
   "source": [
    "## Python"
   ]
  },
  {
   "cell_type": "markdown",
   "id": "e3ab7015-1535-4145-a40f-d504b4e07d14",
   "metadata": {
    "editable": true,
    "slideshow": {
     "slide_type": ""
    },
    "tags": []
   },
   "source": [
    "### ¿Por qué aprender Python?\n",
    "\n",
    "* Programas fáciles de leer y comprender debido a su sintaxis básica es similar a la del inglés.\n",
    "* Incrementa la productividad de los programadores, con menos líneas de código en comparación con muchos otros lenguajes.\n",
    "* Cuenta con una gran biblioteca estándar que contiene códigos reutilizables para casi cualquier tarea. De esta manera, los desarrolladores no tienen que escribir el código desde cero.\n",
    "* Los desarrolladores pueden utilizar Python con otros lenguajes de programación conocidos, como Java, C y C++.\n",
    "* La comunidad activa de Python incluye millones de desarrolladores alrededor del mundo que prestan su apoyo.\n",
    "* Python se puede portar a diferentes sistemas operativos como Windows, macOS, Linux y Unix."
   ]
  },
  {
   "cell_type": "markdown",
   "id": "a56e39f8-3d6f-45c0-8b2a-366a28ebf88d",
   "metadata": {
    "editable": true,
    "slideshow": {
     "slide_type": "subslide"
    },
    "tags": []
   },
   "source": [
    "**Python** es un lenguaje de alto nivel de programación interpretado hace hincapié en la legibilidad de su código, se utiliza para desarrollar aplicaciones de todo tipo.\n",
    "\n",
    "* Lenguaje de propósito general: puedes construir cualquier cosa!\n",
    "* Apto para las actividades diarias permite la construcción de prototipos en poco tiempo.\n",
    "* Open source == Gratis! \n",
    "* Paquetes disponibles para una gran cantidad de aplicaciones y campos\n",
    "* Multiplataforma\n",
    "* Permite múltiples estilos de programación: orientada a objetos, imperativa y funcional\n",
    "* Primera versión: 20 de febrero de 1991, creado Guido van Rossum\n",
    "\n",
    "<img src=\"images/guido.jpg\" width=\"15%\">"
   ]
  },
  {
   "cell_type": "markdown",
   "id": "06422f86-c809-4097-9bdb-9fbb4cbc217d",
   "metadata": {
    "editable": true,
    "slideshow": {
     "slide_type": "subslide"
    },
    "tags": []
   },
   "source": [
    "### TOP\n",
    "\n",
    "Los programas en Python más famosos:\n",
    "\n",
    "1. Pinterest.\n",
    "2. Panda 3D.\n",
    "3. Dropbox.\n",
    "4. Spotify.\n",
    "5. Netflix.\n",
    "6. Uber.\n",
    "7. Instagram.\n",
    "8. Reddit.\n",
    "9. Battlefield 2."
   ]
  },
  {
   "cell_type": "markdown",
   "id": "8f5caaf2-4170-48ef-adf0-9d07760a9aec",
   "metadata": {
    "editable": true,
    "slideshow": {
     "slide_type": "subslide"
    },
    "tags": []
   },
   "source": [
    "### Aplicaciones de Python:\n",
    "1. Análisis de Big Data.\n",
    "2. Data Science\n",
    "3. Inteligencia Artificial y Aprendizaje Automático\n",
    "4. Desarrollo Web.\n",
    "5. Juegos y Gráficos 3D.\n",
    "6. Procesamiento de Imágenes y Audio\n",
    "7. Automatización de procesos"
   ]
  },
  {
   "cell_type": "markdown",
   "id": "7b0e36b6-417e-42db-9354-362b0d58543f",
   "metadata": {
    "editable": true,
    "slideshow": {
     "slide_type": "slide"
    },
    "tags": []
   },
   "source": [
    "## Tipos de lenguajes de programación\n",
    "* **Compilados**: Se obtiene un archivo  ejecutable (.EXE), le  damos doble click o ejecutamos la tarea y comienza con la ejecución de las instrucciones\n",
    "* **Interpretados**: tiene un proceso mucho más sencillo, el intérprete lo que hace es leer el archivo  y hacer la traducción(interpretar) lo que entiende, normalmente lo hace linea por linea.\n",
    "* **Lenguaje ensamblador**: Es un código a nivel procesador que se ejecutan directamente por lo que no es necesario compilarlos o interpretarlos. "
   ]
  },
  {
   "cell_type": "markdown",
   "id": "3f64bd90-31da-4f54-8a5c-4188116a55f8",
   "metadata": {
    "editable": true,
    "slideshow": {
     "slide_type": ""
    },
    "tags": []
   },
   "source": [
    "\n",
    "|                 | Compilado                                                                               | Interpretado                                                 |\r\n",
    "|-----------------|-----------------------------------------------------------------------------------------|--------------------------------------------------------------|\r\n",
    "| Caracteristicas | C++                                                                                     | Python                                                       |\r\n",
    "| Ventajas        | Rapidez<br>Listo para ejecutarse                                                        | Flexibilidad<br>Multiplataforma                              |\r\n",
    "| Desventajas     | El ejecutable corre en una sóla plataforma<br>Para realizar cambios, hay que recompilar | Más lento<br>Se debe interpretar el código en cada ejecución |\r\n",
    "| Ejemplos        | C++, Rust, GO                                                                           | Javascript, Python, Ruby                                     |"
   ]
  },
  {
   "cell_type": "markdown",
   "id": "e24f1cca-1e67-4e58-a15a-0903995755c4",
   "metadata": {
    "editable": true,
    "slideshow": {
     "slide_type": "subslide"
    },
    "tags": []
   },
   "source": [
    "### Modelo de ejecución\n",
    "\n",
    "- Python compila el código fuente a bytecodes\n",
    "  - Almacenados como ficheros .pyc para reutilización\n",
    "- Python Virtual Machine (PVM): interpreta los bytecodes\n",
    "\n",
    "![modelo_ejecucion](images/t1_modelo_ejecucion.png)"
   ]
  },
  {
   "cell_type": "markdown",
   "id": "e8e3b8bc-0a55-4563-939e-fd7f61f841ed",
   "metadata": {
    "editable": true,
    "slideshow": {
     "slide_type": "subslide"
    },
    "tags": []
   },
   "source": [
    "### Ejemplos de un programa básico en varios lenguajes\n",
    "\n",
    "* BASIC\n",
    "```\n",
    "    10 PRINT \"Hello, World!\"\n",
    "    20 END\n",
    "```\n",
    "\n",
    "* C++\n",
    "```\n",
    "    main( ) {\n",
    "            printf(\"hello, world\")\n",
    "    }\n",
    "```\n",
    "\n",
    "* Python\n",
    "```\n",
    "    print('Hello, world!')\n",
    "```\n"
   ]
  },
  {
   "cell_type": "markdown",
   "id": "5d71dddd-161e-4547-baa1-a26d0e88364b",
   "metadata": {
    "editable": true,
    "slideshow": {
     "slide_type": "subslide"
    },
    "tags": []
   },
   "source": [
    "### Instalación de Python\n",
    "\n",
    "Solo hay que descargarlo en el formato adecuado para nuestro sistema operativo desde https://www.python.org\n",
    "\n",
    "En muchos sistemas Unix/Linux, Python viene ya instalado por defecto (incluso es usado por el propio S.O.).\n",
    "\n",
    "**NOTA:** Si la instalación es en Windows marcar la opción de añadir Python al PATH. Ver notas en: https://docs.python.org/3/using/windows.html\n",
    "\n",
    "También puede venir incluido en distribuciones de software más amplias:\n",
    "\n",
    "- El ejemplo más conocido es `Anaconda`, que incluye numerosos paquetes científico/técnicos de análisis de dateos adicionales (así como un IDE, una GUI, un gestor de paquetes/entornos (`conda`), etc.)\n",
    "  - Existe una versión minimalista llamada `Miniconda`, que solo incluye Python, _conda_, y unos pocos paquetes extra."
   ]
  },
  {
   "cell_type": "markdown",
   "id": "35ef4a95-a006-434f-93e4-dbc75a0253d0",
   "metadata": {
    "editable": true,
    "slideshow": {
     "slide_type": "subslide"
    },
    "tags": []
   },
   "source": [
    "### Instalación de paquetes externos\n",
    "\n",
    "La herramienta oficial (y más usada) para instalar paquetes Python es `pip`. \n",
    "\n",
    "Instala paquetes del Python Package Index (PyPi): https://pypi.org/\n",
    "\n",
    "    python3 -m pip install cowsay\n",
    "    # o       \n",
    "    pip install cowsay    \n",
    "\n",
    "<div class=\"alert alert-block alert-info\">\n",
    "Revisaremos la instalación y utilización de librerías en otra sesión\n",
    "</div>"
   ]
  },
  {
   "cell_type": "markdown",
   "id": "4c128a1a-99f0-42eb-8ff0-719089971f6d",
   "metadata": {
    "editable": true,
    "slideshow": {
     "slide_type": "slide"
    },
    "tags": []
   },
   "source": [
    "## Ejecución de Python\n",
    "\n",
    "### Intérpretes interactivos\n",
    "\n",
    "- Intérprete interactivo (consola):\n",
    "\n",
    "<img src=\"images/consola1.png\">\n",
    "\n",
    "* las expresiones pueden ser introducidas una a una, pudiendo verse el resultado de su evaluación inmediatamenta\n",
    "* da la posibilidad de probar porciones de código en el modo interactivo antes de integrarlo como parte de un programa.\n",
    "* útil tanto para las personas que se están familiarizando con el lenguaje como para los programadores más avanzados.\n",
    "\n",
    "<div class=\"alert alert-block alert-warning\">\n",
    "<b>Nota:</b> En el curso trabajaremos en los cuadernos de trabajo, pero pueden explorar la consola.\n",
    "</div>"
   ]
  },
  {
   "cell_type": "markdown",
   "id": "fb6f3e42-1474-4631-b6f9-403ebaea4f1b",
   "metadata": {
    "editable": true,
    "slideshow": {
     "slide_type": "subslide"
    },
    "tags": []
   },
   "source": [
    "### En _scripts_\n",
    "\n",
    "    python myscript.py\n",
    "    \n",
    "O ejecutándolo:\n",
    "\n",
    "    myscript.py\n",
    "    \n",
    "- En Unix, se usa algo como `#!/usr/bin/env python`, en la primera línea del script.\n",
    "- En Windows, se puede hacer _doble click_ con el ratón (cuidado: se puede cerrar sin poder ver el resultado)\n",
    "\n",
    "Los programas suelen necesitar acceder a librerías externas (en Python, módulos), otros ficheros `.py`.\n",
    "\n",
    "- Volveremos sobre ello, pero los módulos se buscan o bien el directorio actual, o en algunos directorios del sistema, o en los indicados por la variable de entorno `PYTHONPATH`."
   ]
  },
  {
   "cell_type": "markdown",
   "id": "30763b1a-15ec-4071-9815-d09ac5570b43",
   "metadata": {
    "editable": true,
    "slideshow": {
     "slide_type": "subslide"
    },
    "tags": []
   },
   "source": [
    "### Edición de scripts y módulos\n",
    "\n",
    "Se puede usar cualquier editor de texto puro: `vim`, `emacs`, `sublime`, `notepad++`...\n",
    "- No usar algo como `Word`!\n",
    "\n",
    "También se puede usar un entorno de desarrollo integrado (IDE)\n",
    "- Incluyen muchas utilidades de ayuda, depuración, refactorización\n",
    "- Integran un intérprete interactivo\n",
    "- Muchas opciones: IDLE (parte de Python), PyCharm, Spyder (de Anaconda), Visual Studio, Eclipse...\n",
    "\n",
    "O se puede usar _Jupyter_."
   ]
  },
  {
   "cell_type": "markdown",
   "id": "257650f4-5029-45c9-b9dd-8dd7efe48a1f",
   "metadata": {
    "editable": true,
    "slideshow": {
     "slide_type": "slide"
    },
    "tags": []
   },
   "source": [
    "## El código fuente en Python\n",
    "\n",
    "La indentación tiene significado sintáctico en Python \n",
    "- Python anima a escribir código legible\n",
    "- La indentación (espacios o tabuladores) crea bloques de código\n",
    "- Se recomienda usar siempre 4 espacios (y evitar el tabulador)\n",
    "\n",
    "Lo mismo en Python:  \n",
    "```python\n",
    "if X > 0:\n",
    "    print(\"X es positivo\")\n",
    "if X < 2:\n",
    "    print(\"X es 1\")\n",
    "```\n",
    "\n",
    "En Python, los comentarios se introducen con `#`:\n",
    "```python\n",
    "# This is a comment\n",
    "print(\"Hello\")\n",
    "```"
   ]
  },
  {
   "cell_type": "markdown",
   "id": "1aeb1718-7d44-4be8-9409-bb2f8b33d6bc",
   "metadata": {
    "editable": true,
    "slideshow": {
     "slide_type": "slide"
    },
    "tags": []
   },
   "source": [
    "### Jupyter\n",
    "\n",
    "#### Jupyter notebooks\n",
    "\n",
    "- Son documentos que integran código, resultados, visualizaciones y texto en formato _Markdown_ (se muestra como HTML).\n",
    "- Soporta diferentes lenguajes (Python, R, Julia...)\n",
    "- El usuario interacciona con los notebooks a través de su navegador.\n",
    "- Muy útil para documentar y compartir trabajo científico\n",
    "- También muy práctico para pre-configurar entornos de trabajo: ideal para cursos, p. ej.\n",
    "- También es una opción como entorno de desarrollo/pruebas\n",
    "- Los _notebooks_ se almacenan como ficheros _JSON_, con todos sus elementos, y se pueden recuperar, y ejecutar posteriormente.\n",
    "- Jupyter integra un pequeño servidor web y varios _kernels_ de ejecución (uno por notebook abierto).\n",
    "- Usando el navegador, podemos ejecutar el código del notebook en el ordenador local, o en un sistema remoto (p.ej. en la nube)"
   ]
  },
  {
   "cell_type": "markdown",
   "id": "08e062e3-438b-48f3-8217-d90ac4454fe0",
   "metadata": {
    "editable": true,
    "slideshow": {
     "slide_type": "subslide"
    },
    "tags": []
   },
   "source": [
    "#### Esquema de trabajo en el curso\n",
    "![jupyter](images/t1_jupyter.png)"
   ]
  }
 ],
 "metadata": {
  "kernelspec": {
   "display_name": "Python 3 (ipykernel)",
   "language": "python",
   "name": "python3"
  },
  "language_info": {
   "codemirror_mode": {
    "name": "ipython",
    "version": 3
   },
   "file_extension": ".py",
   "mimetype": "text/x-python",
   "name": "python",
   "nbconvert_exporter": "python",
   "pygments_lexer": "ipython3",
   "version": "3.11.5"
  }
 },
 "nbformat": 4,
 "nbformat_minor": 5
}
