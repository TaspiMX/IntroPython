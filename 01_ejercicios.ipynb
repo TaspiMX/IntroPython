{
 "cells": [
  {
   "cell_type": "markdown",
   "id": "01835f09-5171-4ce3-a87c-8ca3b96156dd",
   "metadata": {
    "editable": true,
    "slideshow": {
     "slide_type": ""
    },
    "tags": []
   },
   "source": [
    "# Ejercicios Sesión 1"
   ]
  },
  {
   "cell_type": "markdown",
   "id": "94b08982-d361-4444-a318-1d1d3249e40a",
   "metadata": {
    "editable": true,
    "slideshow": {
     "slide_type": ""
    },
    "tags": []
   },
   "source": [
    "<div class=\"alert alert-block alert-info\">\n",
    "Ejercicio 1.1.: Realiza una operación aritmética sencilla:\n",
    "</div>\n",
    "\n",
    "Posiciona el cursor en la siguiente celda y teclea una suma de dos números. \n",
    "\n",
    "Posteriormente ejecútalo con `CONTROL y ENTER` simultáneamente"
   ]
  },
  {
   "cell_type": "code",
   "execution_count": null,
   "id": "a676df37-fd42-41ea-b2ea-4826a9bb3739",
   "metadata": {
    "editable": true,
    "slideshow": {
     "slide_type": ""
    },
    "tags": []
   },
   "outputs": [],
   "source": []
  },
  {
   "cell_type": "markdown",
   "id": "1f0e63ae-9660-49ec-87d1-774a7f27fdd5",
   "metadata": {
    "editable": true,
    "slideshow": {
     "slide_type": ""
    },
    "tags": []
   },
   "source": [
    "<div class=\"alert alert-block alert-info\">\n",
    "Ejercicio 1.2.: Realiza una operación aritmética sencilla, guardando los números en variables\n",
    "</div>\n",
    "\n",
    "Posiciona el cursor en la siguiente celda y asigna los valores 1 y 2 a las variables `a` y `b` respectivamente. Posteriormente ejecútalo con `CONTROL y ENTER` simultáneamente"
   ]
  },
  {
   "cell_type": "code",
   "execution_count": null,
   "id": "44637661-537e-4dde-99f4-403a330b0a99",
   "metadata": {
    "editable": true,
    "slideshow": {
     "slide_type": ""
    },
    "tags": []
   },
   "outputs": [],
   "source": [
    "a = \n",
    "b = \n",
    "print(a+b)"
   ]
  },
  {
   "cell_type": "markdown",
   "id": "7cb7cee5-5643-4437-9b98-65404f13685f",
   "metadata": {
    "editable": true,
    "slideshow": {
     "slide_type": ""
    },
    "tags": []
   },
   "source": [
    "<div class=\"alert alert-block alert-info\">\n",
    "Ejercicio 1.3.: Calcula el interés simple de un crédito de $1,000 pesos, por una tasa de 11.00% y un plazo de 90 días. La fórmula es:\n",
    "</div>\n",
    "\n",
    "$interes = capital * tasa / 360 * plazo$\n",
    "\n",
    "Posiciona el cursor en la siguiente celda y asigna los valores de las variables y la fórmula. Posteriormente ejecútalo con `CONTROL y ENTER` simultáneamente.\n",
    "\n",
    "El plazo se expresa en días y la tasa en decimal (0.11)"
   ]
  },
  {
   "cell_type": "code",
   "execution_count": null,
   "id": "5b81cdf2-f586-4eb0-bfd3-531616a0f17a",
   "metadata": {
    "editable": true,
    "slideshow": {
     "slide_type": ""
    },
    "tags": []
   },
   "outputs": [],
   "source": [
    "capital = \n",
    "tasa = \n",
    "plazo =\n",
    "interes = \n",
    "print(interes)"
   ]
  },
  {
   "cell_type": "markdown",
   "id": "3ec9253d-167a-4f2f-8bc3-008a8d380557",
   "metadata": {
    "editable": true,
    "slideshow": {
     "slide_type": ""
    },
    "tags": []
   },
   "source": [
    "<div class=\"alert alert-block alert-info\">\n",
    "Ejercicio 1.4.: Asigna el valor de 100 a la variable `capital` y posteriormente imprime el mensaje: \"El capitales de 100$\":\n",
    "</div>\n",
    "Posiciona el cursor en la siguiente celda y asigna los valores de las variables y la funcion print. Posteriormente ejecútalo con `CONTROL y ENTER` simultáneamente"
   ]
  },
  {
   "cell_type": "code",
   "execution_count": null,
   "id": "64563349-ecc8-4bf1-ba81-7ff4a8846d8d",
   "metadata": {
    "editable": true,
    "slideshow": {
     "slide_type": ""
    },
    "tags": []
   },
   "outputs": [],
   "source": [
    "capital = \n",
    "print(\"El capital es $\" +  )"
   ]
  },
  {
   "cell_type": "markdown",
   "id": "f0c0daad-f1a0-4d94-a628-5e0a36e05bff",
   "metadata": {
    "editable": true,
    "slideshow": {
     "slide_type": ""
    },
    "tags": []
   },
   "source": [
    "La operacion `+` acepta valores del mismo tipo. Para poder `concatenar` un texto con un número, hay que utilizar la función `str()` para convertir el valor numérico a texto."
   ]
  },
  {
   "cell_type": "markdown",
   "id": "ee946405-f5a1-4cf8-b78f-3531dafd0a5b",
   "metadata": {
    "editable": true,
    "slideshow": {
     "slide_type": ""
    },
    "tags": []
   },
   "source": [
    "<div class=\"alert alert-block alert-info\">\n",
    "Ejercicio 1.5.: Asigna tu nombre a la variable nombre y despliega el valor utilizando print.\n",
    "</div>\n",
    "Posiciona el cursor en la siguiente celda y asigna los valores de las variables y la funcion print. Posteriormente ejecútalo con `CONTROL y ENTER` simultáneamente"
   ]
  },
  {
   "cell_type": "code",
   "execution_count": null,
   "id": "5cdafbbf-1bda-4faf-a3c7-dc12760cf487",
   "metadata": {
    "editable": true,
    "slideshow": {
     "slide_type": ""
    },
    "tags": []
   },
   "outputs": [],
   "source": [
    "nombre = \n",
    "print()"
   ]
  },
  {
   "cell_type": "markdown",
   "id": "b2ff0355-886d-49ca-9392-5cfe50752919",
   "metadata": {
    "editable": true,
    "slideshow": {
     "slide_type": ""
    },
    "tags": []
   },
   "source": [
    "Ahora imprime el tercer caracter de tu nombre, utilizando corchetes `[2]`"
   ]
  },
  {
   "cell_type": "code",
   "execution_count": null,
   "id": "efd84fe9-1fc6-452c-ad86-10a4106f5b20",
   "metadata": {
    "editable": true,
    "slideshow": {
     "slide_type": ""
    },
    "tags": []
   },
   "outputs": [],
   "source": [
    "print(nombre[])"
   ]
  },
  {
   "cell_type": "markdown",
   "id": "8d0a4db7-5c59-4290-9584-571d44f35808",
   "metadata": {
    "editable": true,
    "slideshow": {
     "slide_type": ""
    },
    "tags": []
   },
   "source": [
    "Ahora imprime del tercer al sexto caracter, utilizando corchetes y los dos puntos para definir un rango `[2:5]`"
   ]
  },
  {
   "cell_type": "code",
   "execution_count": null,
   "id": "fc7aaa13-c91f-429f-9033-92245c868b4b",
   "metadata": {
    "editable": true,
    "slideshow": {
     "slide_type": ""
    },
    "tags": []
   },
   "outputs": [],
   "source": [
    "print(nombre[])"
   ]
  },
  {
   "cell_type": "markdown",
   "id": "b5ed8201-7508-44b8-a419-6a36cd1406f0",
   "metadata": {
    "editable": true,
    "slideshow": {
     "slide_type": ""
    },
    "tags": []
   },
   "source": [
    "<div class=\"alert alert-block alert-info\">\n",
    "Ejercicio 1.6.: Ejercicios con listas.\n",
    "</div>\n",
    "A partir de la siguiente lista, realiza los siguientes ejercicios:"
   ]
  },
  {
   "cell_type": "code",
   "execution_count": null,
   "id": "9a6b1cb5-095d-4cf3-8139-b3b7ca9d02ef",
   "metadata": {},
   "outputs": [],
   "source": [
    "estados = [\"Aguascalientes\",\n",
    "\"Baja California\",\n",
    "\"Baja California Sur\",\n",
    "\"Campeche\",\n",
    "\"Chiapas\",\n",
    "\"Chihuahua\",\n",
    "\"Ciudad de México\",\n",
    "\"Coahuila\",\n",
    "\"Colima\",\n",
    "\"Durango\",\n",
    "\"Estado de México\",\n",
    "\"Guanajuato\",\n",
    "\"Guerrero\",\n",
    "\"Hidalgo\",\n",
    "\"Jalisco\",\n",
    "\"Michoacán\",\n",
    "\"Morelos\",\n",
    "\"Nayarit\",\n",
    "\"Nuevo León\",\n",
    "\"Oaxaca\",\n",
    "\"Puebla\",\n",
    "\"Querétaro\",\n",
    "\"Quintana Roo\",\n",
    "\"San Luis Potosí\",\n",
    "\"Sinaloa\",\n",
    "\"Sonora\",\n",
    "\"Tabasco\",\n",
    "\"Tamaulipas\",\n",
    "\"Tlaxcala\",\n",
    "\"Veracruz\",\n",
    "\"Yucatán\",\n",
    "\"Zacatecas\"]"
   ]
  },
  {
   "cell_type": "markdown",
   "id": "a718d65e-76e5-4b27-afb6-827feeb639f0",
   "metadata": {},
   "source": [
    "* ¿Cuál es el número de estados? Utiliza la funcion `len()`"
   ]
  },
  {
   "cell_type": "code",
   "execution_count": null,
   "id": "1b3b4f68-5a33-4e16-ac05-724cca9c775d",
   "metadata": {},
   "outputs": [],
   "source": [
    "len(estados)"
   ]
  },
  {
   "cell_type": "markdown",
   "id": "693d4556-27c8-4a75-8076-9b180f984e6d",
   "metadata": {},
   "source": [
    "* Cambia el \"Estado de México\" por solamente \"México\", hazlo directamente utilizando la posición del estado [] y posteriormente imprime la lista para revisar el resultado"
   ]
  },
  {
   "cell_type": "code",
   "execution_count": null,
   "id": "8526b3e6-e2b3-41d2-8200-a321570da31b",
   "metadata": {},
   "outputs": [],
   "source": []
  },
  {
   "cell_type": "markdown",
   "id": "475da9de-8d6e-47a9-9a56-929e4d0bce18",
   "metadata": {},
   "source": [
    "* Ordena la lista en orden alfabético, utiliza el método `.sort()` e imprime el resultado. "
   ]
  },
  {
   "cell_type": "code",
   "execution_count": null,
   "id": "7085546e-01cc-4b63-8230-f00f943871a4",
   "metadata": {},
   "outputs": [],
   "source": [
    "estados.sort()\n",
    "print(estados)"
   ]
  },
  {
   "cell_type": "code",
   "execution_count": null,
   "id": "8c41a19d-2afc-4fe2-92c6-367dbc99cd93",
   "metadata": {},
   "outputs": [],
   "source": []
  },
  {
   "cell_type": "markdown",
   "id": "f5fd9a34-2fb6-497e-9664-4ce48cdfa2d1",
   "metadata": {
    "editable": true,
    "slideshow": {
     "slide_type": ""
    },
    "tags": []
   },
   "source": [
    "<div class=\"alert alert-block alert-info\">\n",
    "Ejercicio 1.7.: Utilizar rangos\n",
    "</div>\n",
    "Crea un rango iniciando en 1 y terminando en 20 y posteriormente imprímelos con un ciclo `for`.\n",
    "\n",
    "- `range` solo almacena _inicio_, _final_, _paso_."
   ]
  },
  {
   "cell_type": "code",
   "execution_count": null,
   "id": "9e954d77-bb1c-4f8c-a33a-9940ba4e40cf",
   "metadata": {
    "editable": true,
    "slideshow": {
     "slide_type": ""
    },
    "tags": []
   },
   "outputs": [],
   "source": [
    "rango = range()\n",
    "\n",
    "for x in rango: \n"
   ]
  },
  {
   "cell_type": "markdown",
   "id": "80029578-5e33-4645-b366-6dd6a078ddc1",
   "metadata": {},
   "source": [
    "Modifica el rango anterior para que el intervalo entre números sea de 2"
   ]
  },
  {
   "cell_type": "markdown",
   "id": "f9f2998e-4cc5-40e4-bacf-78892d338e40",
   "metadata": {
    "editable": true,
    "slideshow": {
     "slide_type": ""
    },
    "tags": []
   },
   "source": [
    "<div class=\"alert alert-block alert-info\">\n",
    "Ejercicio 1.8.: Ejecutar las siguientes operaciones aritméticas\n",
    "</div>\n",
    "Entes de ejecutar estas operaciones, calcula mentalmente el resultado. Considera la `precedencia` de los operadores."
   ]
  },
  {
   "cell_type": "code",
   "execution_count": null,
   "id": "8e3ed2ee-bdb7-4360-98fc-13feef91dc66",
   "metadata": {
    "editable": true,
    "slideshow": {
     "slide_type": ""
    },
    "tags": []
   },
   "outputs": [],
   "source": [
    "5 - 3 - 2 * 2"
   ]
  },
  {
   "cell_type": "code",
   "execution_count": null,
   "id": "d8dbcd35-a0b1-484f-b18b-d75048887071",
   "metadata": {
    "editable": true,
    "slideshow": {
     "slide_type": ""
    },
    "tags": []
   },
   "outputs": [],
   "source": [
    "5 - 2 ^ 2"
   ]
  },
  {
   "cell_type": "markdown",
   "id": "96814d19-8663-445e-a421-1165483510cf",
   "metadata": {},
   "source": [
    "<div class=\"alert alert-block alert-info\">\n",
    "Ejercicio 1.9.: Escribir una sentencia IF, que compruebe una variable numérica `x`.\n",
    "</div>\n",
    "\n",
    "- Si `x` es positiva, mostrará \"POSITIVO\"\n",
    "- Si `x` es negativa, mostrará \"NEGATIVO\"\n",
    "\n",
    "Probarlo para varios valores de `x`, incluido 10."
   ]
  },
  {
   "cell_type": "code",
   "execution_count": null,
   "id": "76657a7c-97fd-401b-8519-108ebf4bc2ef",
   "metadata": {},
   "outputs": [],
   "source": [
    "x = 10\n",
    "\n",
    "\n",
    "if  :\n",
    "\n",
    "else: \n",
    "    "
   ]
  },
  {
   "cell_type": "markdown",
   "id": "46be2d51-3b2e-4fe4-9c29-d97a653b4fc2",
   "metadata": {},
   "source": [
    "Ahora, agrega una condición adicional: Si `x` es cero, mostrará \"ZERO\""
   ]
  },
  {
   "cell_type": "markdown",
   "id": "0a953a1d-2123-4358-8ce8-ccf3ebd3b9a3",
   "metadata": {
    "editable": true,
    "slideshow": {
     "slide_type": ""
    },
    "tags": []
   },
   "source": [
    "<div class=\"alert alert-block alert-info\">\n",
    "Ejercicio 1.10.: Sumar los elementos de una lista\n",
    "</div>\n",
    "Utilizar un ciclo `for` "
   ]
  },
  {
   "cell_type": "code",
   "execution_count": null,
   "id": "c811a29f-27c5-4901-ac07-935e9bc36099",
   "metadata": {
    "editable": true,
    "slideshow": {
     "slide_type": ""
    },
    "tags": []
   },
   "outputs": [],
   "source": [
    "alturas = [1.73, 1.68, 1.71, 1.89, 1.73]\n",
    "# creo una variable inicial con valor cero\n",
    "suma = 0\n",
    "# recorro cada uno de los elementos de la lista\n",
    "for x in alturas:\n",
    "    # sumo cada numero en la variable suma\n",
    "    suma += x\n",
    "\n",
    "# al final, la variable suma debe tener el total\n",
    "print(suma) \n"
   ]
  },
  {
   "cell_type": "markdown",
   "id": "7da07e08-f0d8-49db-9357-c48e3ed0b178",
   "metadata": {
    "editable": true,
    "slideshow": {
     "slide_type": ""
    },
    "tags": []
   },
   "source": [
    "<div class=\"alert alert-block alert-info\">\n",
    "Ejercicio 1.11.: Crear una funcion para calcular el interés simple:\n",
    "</div>\n",
    "$interes = capital * tasa / 360 * plazo$\n",
    "\n",
    "La funcion debe recibir 3 datos: capital en pesos, tasa en decimal, plazo en días, y regresar un sólo valor correspondiente interés en pesos."
   ]
  },
  {
   "cell_type": "code",
   "execution_count": null,
   "id": "2caa996a-fd93-486c-a448-148a95a18f02",
   "metadata": {
    "editable": true,
    "slideshow": {
     "slide_type": ""
    },
    "tags": []
   },
   "outputs": [],
   "source": [
    "def interes():\n",
    "    \n",
    "    return \n"
   ]
  },
  {
   "cell_type": "markdown",
   "id": "65889d35-196c-4dd1-9fc8-9d1569e8baeb",
   "metadata": {
    "editable": true,
    "slideshow": {
     "slide_type": ""
    },
    "tags": []
   },
   "source": [
    "Prueba la función con los siguientes datos:\n",
    "\n",
    "* Capital: $1,000, Tasa: 11.50%, Plazo: 91 días\n",
    "\n",
    "* Capital: $5,000, Tasa: 9.50%, Plazo: 182 días"
   ]
  },
  {
   "cell_type": "code",
   "execution_count": null,
   "id": "b4a70ebb-5774-4b3a-8cfc-ea3a03e553a3",
   "metadata": {
    "editable": true,
    "slideshow": {
     "slide_type": ""
    },
    "tags": []
   },
   "outputs": [],
   "source": [
    "print( interes() )"
   ]
  },
  {
   "cell_type": "markdown",
   "id": "44b7d53e-2924-45ae-8bdb-301f7d8b12ff",
   "metadata": {
    "editable": true,
    "slideshow": {
     "slide_type": ""
    },
    "tags": []
   },
   "source": [
    "<div class=\"alert alert-block alert-info\">\n",
    "Ejercicio 1.12.: Crear una función para calcular el precio (valuación) de un CETE:\n",
    "</div>\n",
    "\n",
    "<img src=\"images/formulacete.png\" width=80%>\n",
    "\n",
    "La funcion debe recibir 3 datos: \n",
    "\n",
    "* Valor Nominal en pesos (CETE = $10 pesos)\n",
    "\n",
    "* tasa de rendimiento en decimales\n",
    "\n",
    "* plazo en días\n",
    "\n",
    "y regresar un sólo valor correspondiente al precio redondeado a 7 decimales.\n",
    "\n",
    "Para agregar una celda nueva de código, dar click en la herramienta \"INSERT A CELL BELOW\""
   ]
  }
 ],
 "metadata": {
  "kernelspec": {
   "display_name": "Python 3 (ipykernel)",
   "language": "python",
   "name": "python3"
  },
  "language_info": {
   "codemirror_mode": {
    "name": "ipython",
    "version": 3
   },
   "file_extension": ".py",
   "mimetype": "text/x-python",
   "name": "python",
   "nbconvert_exporter": "python",
   "pygments_lexer": "ipython3",
   "version": "3.11.7"
  }
 },
 "nbformat": 4,
 "nbformat_minor": 5
}
