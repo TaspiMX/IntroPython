{
 "cells": [
  {
   "cell_type": "markdown",
   "id": "01835f09-5171-4ce3-a87c-8ca3b96156dd",
   "metadata": {
    "editable": true,
    "slideshow": {
     "slide_type": ""
    },
    "tags": []
   },
   "source": [
    "# Ejercicios Sesión 1"
   ]
  },
  {
   "cell_type": "markdown",
   "id": "94b08982-d361-4444-a318-1d1d3249e40a",
   "metadata": {
    "editable": true,
    "slideshow": {
     "slide_type": ""
    },
    "tags": []
   },
   "source": [
    "<div class=\"alert alert-block alert-info\">\n",
    "Ejercicio 1.1.: Realiza una operación aritmética sencilla:\n",
    "</div>\n",
    "\n",
    "Posiciona el cursor en la siguiente y teclea una suma de dos números. \n",
    "\n",
    "Posteriormente ejecútalo con `CONTROL y ENTER` simultáneamente"
   ]
  },
  {
   "cell_type": "code",
   "execution_count": 3,
   "id": "a676df37-fd42-41ea-b2ea-4826a9bb3739",
   "metadata": {
    "editable": true,
    "slideshow": {
     "slide_type": ""
    },
    "tags": []
   },
   "outputs": [
    {
     "name": "stdout",
     "output_type": "stream",
     "text": [
      "3\n"
     ]
    }
   ],
   "source": [
    "1+2"
   ]
  },
  {
   "cell_type": "markdown",
   "id": "1f0e63ae-9660-49ec-87d1-774a7f27fdd5",
   "metadata": {
    "editable": true,
    "slideshow": {
     "slide_type": ""
    },
    "tags": []
   },
   "source": [
    "<div class=\"alert alert-block alert-info\">\n",
    "Ejercicio 1.2.: Realiza una operación aritmética sencilla, guardando los números en variables\n",
    "</div>\n",
    "\n",
    "Posiciona el cursor en la siguiente celda y asigna los valores 1 y 2 a las variables `a` y `b` respectivamente. Posteriormente ejecútalo con `CONTROL y ENTER` simultáneamente"
   ]
  },
  {
   "cell_type": "code",
   "execution_count": 3,
   "id": "44637661-537e-4dde-99f4-403a330b0a99",
   "metadata": {
    "editable": true,
    "slideshow": {
     "slide_type": ""
    },
    "tags": []
   },
   "outputs": [
    {
     "name": "stdout",
     "output_type": "stream",
     "text": [
      "3\n"
     ]
    }
   ],
   "source": [
    "a = \n",
    "b = \n",
    "print(a+b)"
   ]
  },
  {
   "cell_type": "markdown",
   "id": "7cb7cee5-5643-4437-9b98-65404f13685f",
   "metadata": {
    "editable": true,
    "slideshow": {
     "slide_type": ""
    },
    "tags": []
   },
   "source": [
    "<div class=\"alert alert-block alert-info\">\n",
    "Ejercicio 1.3.: Calcula el interés simple de un crédito de $1,000 pesos, por una tasa de 11.00% y un plazo de 90 días. La fórmula es:\n",
    "</div>\n",
    "\n",
    "$interes = capital * tasa / 360 * plazo$\n",
    "\n",
    "Posiciona el cursor en la siguiente celda y asigna los valores de las variables y la fórmula. Posteriormente ejecútalo con `CONTROL y ENTER` simultáneamente"
   ]
  },
  {
   "cell_type": "code",
   "execution_count": 3,
   "id": "5b81cdf2-f586-4eb0-bfd3-531616a0f17a",
   "metadata": {
    "editable": true,
    "slideshow": {
     "slide_type": ""
    },
    "tags": []
   },
   "outputs": [
    {
     "name": "stdout",
     "output_type": "stream",
     "text": [
      "3\n"
     ]
    }
   ],
   "source": [
    "capital = \n",
    "tasa = \n",
    "plazo =\n",
    "interes = \n",
    "print(interes)"
   ]
  },
  {
   "cell_type": "markdown",
   "id": "3ec9253d-167a-4f2f-8bc3-008a8d380557",
   "metadata": {
    "editable": true,
    "slideshow": {
     "slide_type": ""
    },
    "tags": []
   },
   "source": [
    "<div class=\"alert alert-block alert-info\">\n",
    "Ejercicio 1.4.: Asigna el valor de 100 a la variable `capital` y posteriormente imprime el mensaje: \"El capitales de 100$\":\n",
    "</div>\n",
    "Posiciona el cursor en la siguiente celda y asigna los valores de las variables y la funcion print. Posteriormente ejecútalo con `CONTROL y ENTER` simultáneamente"
   ]
  },
  {
   "cell_type": "code",
   "execution_count": null,
   "id": "64563349-ecc8-4bf1-ba81-7ff4a8846d8d",
   "metadata": {
    "editable": true,
    "slideshow": {
     "slide_type": ""
    },
    "tags": []
   },
   "outputs": [],
   "source": [
    "capital = \n",
    "print(\"El capital es\" +  capital)"
   ]
  },
  {
   "cell_type": "markdown",
   "id": "f0c0daad-f1a0-4d94-a628-5e0a36e05bff",
   "metadata": {
    "editable": true,
    "slideshow": {
     "slide_type": ""
    },
    "tags": []
   },
   "source": [
    "La operacion `+` acepta valores del mismo tipo. Para poder `concatenar` un texto con un número, hay que utilizar la función `str()` para convertir el valor numérico a texto."
   ]
  },
  {
   "cell_type": "code",
   "execution_count": 5,
   "id": "45027273-79c0-4eb5-9bea-2c2979d87a9d",
   "metadata": {
    "editable": true,
    "slideshow": {
     "slide_type": ""
    },
    "tags": []
   },
   "outputs": [
    {
     "name": "stdout",
     "output_type": "stream",
     "text": [
      "El capital es $\n"
     ]
    }
   ],
   "source": [
    "capital = 100\n",
    "print(\"El capital es $\" +  str() )"
   ]
  },
  {
   "cell_type": "code",
   "execution_count": null,
   "id": "253f317e-22b7-411c-a264-7861e92c8133",
   "metadata": {
    "editable": true,
    "slideshow": {
     "slide_type": ""
    },
    "tags": []
   },
   "outputs": [],
   "source": []
  },
  {
   "cell_type": "markdown",
   "id": "ee946405-f5a1-4cf8-b78f-3531dafd0a5b",
   "metadata": {
    "editable": true,
    "slideshow": {
     "slide_type": ""
    },
    "tags": []
   },
   "source": [
    "<div class=\"alert alert-block alert-info\">\n",
    "Ejercicio 1.5.: Asigna tu nombre a la variable nombre y despliega el valor utilizando print.\n",
    "</div>\n",
    "Posiciona el cursor en la siguiente celda y asigna los valores de las variables y la funcion print. Posteriormente ejecútalo con `CONTROL y ENTER` simultáneamente"
   ]
  },
  {
   "cell_type": "code",
   "execution_count": null,
   "id": "5cdafbbf-1bda-4faf-a3c7-dc12760cf487",
   "metadata": {
    "editable": true,
    "slideshow": {
     "slide_type": ""
    },
    "tags": []
   },
   "outputs": [],
   "source": [
    "nombre = \n",
    "print()"
   ]
  },
  {
   "cell_type": "markdown",
   "id": "b2ff0355-886d-49ca-9392-5cfe50752919",
   "metadata": {
    "editable": true,
    "slideshow": {
     "slide_type": ""
    },
    "tags": []
   },
   "source": [
    "Ahora imprime el tercer caracter de tu nombre, utilizando corchetes `[2]`"
   ]
  },
  {
   "cell_type": "code",
   "execution_count": null,
   "id": "efd84fe9-1fc6-452c-ad86-10a4106f5b20",
   "metadata": {
    "editable": true,
    "slideshow": {
     "slide_type": ""
    },
    "tags": []
   },
   "outputs": [],
   "source": [
    "print(nombre[])"
   ]
  },
  {
   "cell_type": "markdown",
   "id": "8d0a4db7-5c59-4290-9584-571d44f35808",
   "metadata": {
    "editable": true,
    "slideshow": {
     "slide_type": ""
    },
    "tags": []
   },
   "source": [
    "Ahora imprime del tercer al sexto caracter, utilizando corchetes y los dos puntos para definir un rango `[2:5]`"
   ]
  },
  {
   "cell_type": "code",
   "execution_count": null,
   "id": "fc7aaa13-c91f-429f-9033-92245c868b4b",
   "metadata": {
    "editable": true,
    "slideshow": {
     "slide_type": ""
    },
    "tags": []
   },
   "outputs": [],
   "source": [
    "print(nombre[])"
   ]
  },
  {
   "cell_type": "markdown",
   "id": "8c666301-80a6-42b0-b991-9ecaa29a0f52",
   "metadata": {
    "editable": true,
    "slideshow": {
     "slide_type": ""
    },
    "tags": []
   },
   "source": [
    "<div class=\"alert alert-block alert-info\">\n",
    "Ejercicio 1.6.: Ejecutar las siguientes operaciones aritméticas\n",
    "</div>\n",
    "Entes de ejecutar estas operaciones, calcula mentalmente el resultado. Considera la `precedencia` de los operadores."
   ]
  },
  {
   "cell_type": "code",
   "execution_count": 1,
   "id": "8e3ed2ee-bdb7-4360-98fc-13feef91dc66",
   "metadata": {
    "editable": true,
    "slideshow": {
     "slide_type": ""
    },
    "tags": []
   },
   "outputs": [
    {
     "data": {
      "text/plain": [
       "-2"
      ]
     },
     "execution_count": 1,
     "metadata": {},
     "output_type": "execute_result"
    }
   ],
   "source": [
    "5 - 3 - 2 * 2"
   ]
  },
  {
   "cell_type": "code",
   "execution_count": 2,
   "id": "d8dbcd35-a0b1-484f-b18b-d75048887071",
   "metadata": {
    "editable": true,
    "slideshow": {
     "slide_type": ""
    },
    "tags": []
   },
   "outputs": [
    {
     "data": {
      "text/plain": [
       "1"
      ]
     },
     "execution_count": 2,
     "metadata": {},
     "output_type": "execute_result"
    }
   ],
   "source": [
    "5 - 2 ^ 2"
   ]
  },
  {
   "cell_type": "markdown",
   "id": "322e247f-1f11-4ad4-9f7a-2956bf52a1d2",
   "metadata": {
    "editable": true,
    "slideshow": {
     "slide_type": ""
    },
    "tags": []
   },
   "source": [
    "<div class=\"alert alert-block alert-info\">\n",
    "Ejercicio 1.6.: Sumar los elementos de una lista\n",
    "</div>\n",
    "Utilizar un ciclo `for` "
   ]
  },
  {
   "cell_type": "code",
   "execution_count": null,
   "id": "c811a29f-27c5-4901-ac07-935e9bc36099",
   "metadata": {
    "editable": true,
    "slideshow": {
     "slide_type": ""
    },
    "tags": []
   },
   "outputs": [],
   "source": [
    "alturas = [1.73, 1.68, 1.71, 1.89, 1.73]\n",
    "# creo una variable inicial con valor cero\n",
    "suma = 0\n",
    "# recorro cada uno de los elementos de la lista\n",
    "for x in lista:\n",
    "    # sumo cada numero en la variable suma\n",
    "    suma += x\n",
    "\n",
    "# al final, la variable suma debe tener el total\n",
    "print(suma) \n"
   ]
  },
  {
   "cell_type": "markdown",
   "id": "7da07e08-f0d8-49db-9357-c48e3ed0b178",
   "metadata": {
    "editable": true,
    "slideshow": {
     "slide_type": ""
    },
    "tags": []
   },
   "source": [
    "<div class=\"alert alert-block alert-info\">\n",
    "Ejercicio 1.7.: Crear una fórmula para calcular el interés simple:\n",
    "</div>\n",
    "$interes = capital * tasa / 360 * plazo$\n",
    "\n",
    "La funcion debe recibir 3 datos: capital en pesos, tasa en decimal, plazo en días, y regresar un sólo valor correspondiente interés en pesos."
   ]
  },
  {
   "cell_type": "code",
   "execution_count": null,
   "id": "2caa996a-fd93-486c-a448-148a95a18f02",
   "metadata": {
    "editable": true,
    "slideshow": {
     "slide_type": ""
    },
    "tags": []
   },
   "outputs": [],
   "source": [
    "def interes():\n",
    "    \n",
    "    return \n"
   ]
  },
  {
   "cell_type": "markdown",
   "id": "65889d35-196c-4dd1-9fc8-9d1569e8baeb",
   "metadata": {
    "editable": true,
    "slideshow": {
     "slide_type": ""
    },
    "tags": []
   },
   "source": [
    "Prueba la función con los siguientes datos:\n",
    "\n",
    "* Capital: $1,000, Tasa: 11.50%, Plazo: 91 días\n",
    "\n",
    "* Capital: $5,000, Tasa: 9.50%, Plazo: 182 días"
   ]
  },
  {
   "cell_type": "code",
   "execution_count": null,
   "id": "b4a70ebb-5774-4b3a-8cfc-ea3a03e553a3",
   "metadata": {
    "editable": true,
    "slideshow": {
     "slide_type": ""
    },
    "tags": []
   },
   "outputs": [],
   "source": [
    "print( interes() )"
   ]
  },
  {
   "cell_type": "code",
   "execution_count": null,
   "id": "e12c9ec8-c88c-4dbb-88be-487e352a436b",
   "metadata": {
    "editable": true,
    "slideshow": {
     "slide_type": ""
    },
    "tags": []
   },
   "outputs": [],
   "source": [
    "print( interes() )"
   ]
  },
  {
   "cell_type": "code",
   "execution_count": null,
   "id": "91c066c4-5296-44d7-a5bc-f7ab0d0d4aeb",
   "metadata": {
    "editable": true,
    "slideshow": {
     "slide_type": ""
    },
    "tags": []
   },
   "outputs": [],
   "source": [
    "print( interes() )"
   ]
  }
 ],
 "metadata": {
  "kernelspec": {
   "display_name": "Python 3 (ipykernel)",
   "language": "python",
   "name": "python3"
  },
  "language_info": {
   "codemirror_mode": {
    "name": "ipython",
    "version": 3
   },
   "file_extension": ".py",
   "mimetype": "text/x-python",
   "name": "python",
   "nbconvert_exporter": "python",
   "pygments_lexer": "ipython3",
   "version": "3.11.5"
  }
 },
 "nbformat": 4,
 "nbformat_minor": 5
}
