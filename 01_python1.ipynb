{
 "cells": [
  {
   "cell_type": "markdown",
   "id": "d4040289-dcbe-4413-9d36-7a4e73e6a9af",
   "metadata": {
    "editable": true,
    "slideshow": {
     "slide_type": "slide"
    },
    "tags": []
   },
   "source": [
    "# Empecemos a Programar!"
   ]
  },
  {
   "cell_type": "markdown",
   "id": "e25e8e80-af1e-4bce-9c02-ee0bd86d8b3a",
   "metadata": {
    "editable": true,
    "slideshow": {
     "slide_type": "subslide"
    },
    "tags": []
   },
   "source": [
    "## Entrar al ambiente\n",
    "\n",
    "1. Entrar al ambiente (puede tardar ~5min par de minutos en cargar)\n",
    "\n",
    "URL: https://t.ly/s_ySZ\n",
    "\n",
    "<img src=\"images/binder1.png\" width = \"50%\">\n"
   ]
  },
  {
   "cell_type": "markdown",
   "id": "0a9fa3a4-7eac-43dd-b744-96c2a8de6bc0",
   "metadata": {
    "editable": true,
    "slideshow": {
     "slide_type": "subslide"
    },
    "tags": []
   },
   "source": [
    "## Entrar al ambiente\n",
    "\n",
    "2. Pantalla del ambiente MyBinder\n",
    "\n",
    "<img src=\"images/binder2.png\" width = \"50%\">\n"
   ]
  },
  {
   "cell_type": "markdown",
   "id": "4890882f-53dd-4ed4-b297-e039f649755a",
   "metadata": {
    "editable": true,
    "slideshow": {
     "slide_type": "subslide"
    },
    "tags": []
   },
   "source": [
    "## Abrir el cuaderno de trabajo \"01_ejercicios.ipynb\"\n",
    "\n",
    "<img src=\"images/binder3.png\" width = \"50%\">\n"
   ]
  },
  {
   "cell_type": "markdown",
   "id": "b6109432-22da-48b6-82a4-2d2d9ebe41f4",
   "metadata": {
    "editable": true,
    "slideshow": {
     "slide_type": ""
    },
    "tags": []
   },
   "source": [
    "<div class=\"alert alert-block alert-info\">\n",
    "Ejercicio 1.1.: Realiza una operación aritmética sencilla:\n",
    "</div>\n",
    "\n",
    "Posiciona el cursor en la siguiente celda y teclea una suma de dos números. \n",
    "\n",
    "Posteriormente ejecútalo con `CONTROL y ENTER` simultáneamente"
   ]
  },
  {
   "cell_type": "code",
   "execution_count": null,
   "id": "4f4a90a5-69f5-455b-9fe9-17a7490333bb",
   "metadata": {
    "editable": true,
    "slideshow": {
     "slide_type": ""
    },
    "tags": []
   },
   "outputs": [],
   "source": [
    "1+2"
   ]
  },
  {
   "cell_type": "markdown",
   "id": "22d596ed-9d19-49fe-b518-4964090a8826",
   "metadata": {
    "editable": true,
    "slideshow": {
     "slide_type": "slide"
    },
    "tags": []
   },
   "source": [
    "## Componentes básicos del lenguaje\n",
    "\n",
    "* Variables\n",
    "* Tipos de datos\n",
    "* Palabras reservadas\n"
   ]
  },
  {
   "cell_type": "markdown",
   "id": "d698cb26-de1a-40f4-bf9a-d793fee3ef64",
   "metadata": {
    "editable": true,
    "slideshow": {
     "slide_type": "subslide"
    },
    "tags": []
   },
   "source": [
    "## Variables\n",
    "\n",
    "<img src=\"images/box.jpg\" width=\"10%\">\n",
    "\n",
    "* Una variable puede conceptualizarse como una caja, la cual \"guarda\" un valor\n",
    "* Las variables se definen de forma dinámica:\n",
    "    * no se tiene que especificar cuál es su tipo de antemano\n",
    "    * puede tomar distintos valores en el programa, incluso de un tipo diferente al que tenía previamente\n",
    "* Los nombres de variables pueden contener números, letras y guión bajo pero deben comenzar con una letra\n",
    "* Se usa el símbolo = para asignar valores.\n"
   ]
  },
  {
   "cell_type": "markdown",
   "id": "ca8458d6-848a-4627-a755-8f3f318ce68e",
   "metadata": {
    "editable": true,
    "slideshow": {
     "slide_type": "subslide"
    },
    "tags": []
   },
   "source": [
    "## Reglas para crear un nombre de variable\n",
    "\n",
    "* Los nombres de las variables deben comenzar con una letra (a-z, A-Z) o un guión bajo (_).\n",
    "\r",
    "* \n",
    "El resto del nombre de la variable puede contener letras, números y guiones bajos.\n",
    "* \r\n",
    "Los nombres de las variables son sensibles a mayúsculas y minúsculas, lo que significa que nombre, Nombre y NOMBRE se considerarán como tres variables diferentes\n",
    "* .\r\n",
    "Los nombres de las variables no pueden comenzar con un númer\n",
    "* o.\r\n",
    "No se pueden utilizar palabras clave reservadas de Python como nombres de variables. Algunas palabras clave reservadas incluyen if, else, for, while, def, class, entre ot\n",
    "\n",
    "* Ejemplos:\n",
    "    * edad = 18\n",
    "    * ciudad  = \"CDMX\"\n",
    "    * cp = \"52143\"\n",
    "    * tasa = 11.25ras."
   ]
  },
  {
   "cell_type": "markdown",
   "id": "d7656d41-b280-4a2a-8929-c8e54ae08e53",
   "metadata": {
    "editable": true,
    "slideshow": {
     "slide_type": "subslide"
    },
    "tags": []
   },
   "source": [
    "### Palabras reservadas que no pueden usarse en nombre de variables\n",
    "\n",
    "<img src=\"images/reservadas.png\">"
   ]
  },
  {
   "cell_type": "markdown",
   "id": "adc9ab0b-5800-4f47-929e-f78e0812c386",
   "metadata": {
    "editable": true,
    "slideshow": {
     "slide_type": "subslide"
    },
    "tags": []
   },
   "source": [
    "### La asignación\n",
    "\n",
    "La _asignación_ es una sentencia simple:\n",
    "\n",
    "  - Enlazan (_bind_) una variable con un valor, o bien modifican una variable (modificable)\n",
    "  - Forma: `variable = expresión`\n",
    "  - La variable _apuntará_ al resultado de evaluar la expresión"
   ]
  },
  {
   "cell_type": "code",
   "execution_count": null,
   "id": "3a02e269-c3dd-4e86-84dc-cbd1c93c8687",
   "metadata": {
    "editable": true,
    "slideshow": {
     "slide_type": ""
    },
    "tags": []
   },
   "outputs": [],
   "source": [
    "x = 3 + 4\n",
    "print(x)"
   ]
  },
  {
   "cell_type": "markdown",
   "id": "2336eff6-7fda-4f05-aba8-394a0609142f",
   "metadata": {
    "editable": true,
    "slideshow": {
     "slide_type": "subslide"
    },
    "tags": []
   },
   "source": [
    "<font size=5>\n",
    "<div class=\"alert alert-block alert-info\">\n",
    "Ejercicio 1.2.: Realiza una operación aritmética sencilla, guardando los números en variables\n",
    "</div>\n",
    "</font>\n",
    "\n",
    "Posiciona el cursor en la siguiente asigna los valores 1 y 2 a las variables `a` y `b` respectivamente. Posteriormente ejecútalo con `CONTROL y ENTER` simultáneamente"
   ]
  },
  {
   "cell_type": "code",
   "execution_count": null,
   "id": "44637661-537e-4dde-99f4-403a330b0a99",
   "metadata": {
    "editable": true,
    "slideshow": {
     "slide_type": ""
    },
    "tags": []
   },
   "outputs": [],
   "source": [
    "a = \n",
    "b = \n",
    "print(a+b)"
   ]
  },
  {
   "cell_type": "markdown",
   "id": "52f04ed5-4346-4254-88db-b37aa1c4c5c2",
   "metadata": {
    "editable": true,
    "slideshow": {
     "slide_type": "subslide"
    },
    "tags": []
   },
   "source": [
    "<font size=5>\n",
    "<div class=\"alert alert-block alert-info\">\n",
    "Ejercicio 1.3.: Calcula el interés simple de un crédito de $1,000 pesos, por una tasa de 11.00% y un plazo de 90 días. La fórmula es:\n",
    "</div>\n",
    "</font>\n",
    "\n",
    "$interes = capital * tasa / 360 * plazo$\n",
    "\n",
    "Posiciona el cursor en la siguiente asigna los valores de las variables y la fórmula. Posteriormente ejecútalo con `CONTROL y ENTER` simultáneamente"
   ]
  },
  {
   "cell_type": "code",
   "execution_count": null,
   "id": "87077e0e-3ffa-40ac-b41b-f1d8330e4e05",
   "metadata": {
    "editable": true,
    "slideshow": {
     "slide_type": ""
    },
    "tags": []
   },
   "outputs": [],
   "source": [
    "capital = \n",
    "tasa = \n",
    "plazo = \n",
    "interes = \n",
    "print()"
   ]
  },
  {
   "cell_type": "markdown",
   "id": "00fc5cf0-0d74-42fb-bda6-9c477c2c08d7",
   "metadata": {
    "editable": true,
    "slideshow": {
     "slide_type": "subslide"
    },
    "tags": []
   },
   "source": [
    "### Tipos\n",
    "\n",
    "Todo objeto en Python de datos tiene un tipo asociado.\n",
    "\n",
    "<img src=\"images/types.png\" width=\"35%\">\n"
   ]
  },
  {
   "cell_type": "markdown",
   "id": "da33d197-4e85-4858-ac7f-e576c48071a5",
   "metadata": {
    "editable": true,
    "slideshow": {
     "slide_type": "subslide"
    },
    "tags": []
   },
   "source": [
    "### Ejemplos"
   ]
  },
  {
   "cell_type": "markdown",
   "id": "63c1edc2-3ae5-45af-b139-209dc1175963",
   "metadata": {
    "editable": true,
    "slideshow": {
     "slide_type": ""
    },
    "tags": []
   },
   "source": [
    "\n",
    "\n",
    "<table style=\"undefined;table-layout: fixed; width: 748px\">\r\n",
    "<colgroup>\r\n",
    "<col style=\"width: 51.2px\">\r\n",
    "<col style=\"width: 265.2px\">\r\n",
    "<col style=\"width: 272.2px\">\r\n",
    "<col style=\"width: 159.2px\">\r\n",
    "</colgroup>\r\n",
    "<thead>\r\n",
    "  <tr>\r\n",
    "    <th>Tipo</th>\r\n",
    "    <th>Clase</th>\r\n",
    "    <th>Notas</th>\r\n",
    "    <th>Ejemplo</th>\r\n",
    "  </tr>\r\n",
    "</thead>\r\n",
    "<tbody>\r\n",
    "  <tr>\r\n",
    "    <td>str</td>\r\n",
    "    <td>Cadena en determinado formato de codificación (<a href=\"https://es.wikipedia.org/wiki/UTF-8\">UTF-8</a> por defecto)</td>\r\n",
    "    <td>Inmutable</td>\r\n",
    "    <td>'Cadena'</td>\r\n",
    "  </tr>\r\n",
    "  <tr>\r\n",
    "    <td>bytes</td>\r\n",
    "    <td><a href=\"https://es.wikipedia.org/wiki/Vector_(inform%C3%A1tica)\">Vector</a> o array de bytes</td>\r\n",
    "    <td>Inmutable</td>\r\n",
    "    <td>b'Cadena'</td>\r\n",
    "  </tr>\r\n",
    "  <tr>\r\n",
    "    <td>list</td>\r\n",
    "    <td>Secuencia</td>\r\n",
    "    <td>Mutable, puede contener objetos de diversos tipos</td>\r\n",
    "    <td>[4.0, 'Cadena', True]</td>\r\n",
    "  </tr>\r\n",
    "  <tr>\r\n",
    "    <td>tuple</td>\r\n",
    "    <td>Secuencia</td>\r\n",
    "    <td>Inmutable, puede contener objetos de diversos tipos</td>\r\n",
    "    <td>(4.0, 'Cadena', True)</td>\r\n",
    "  </tr>\r\n",
    "  <tr>\r\n",
    "    <td>set</td>\r\n",
    "    <td>Conjunto</td>\r\n",
    "    <td>Mutable, sin orden, no contiene duplicados</td>\r\n",
    "    <td>{4.0, 'Cadena', True}</td>\r\n",
    "  </tr>\r\n",
    "  <tr>\r\n",
    "    <td>dict</td>\r\n",
    "    <td>Diccionario</td>\r\n",
    "    <td>Grupo de pares clave:valor</td>\r\n",
    "    <td>{'key1': 1.0, 'key2': False}</td>\r\n",
    "  </tr>\r\n",
    "  <tr>\r\n",
    "    <td>int</td>\r\n",
    "    <td>Número entero</td>\r\n",
    "    <td>Precisión arbitraria</td>\r\n",
    "    <td>42</td>\r\n",
    "  </tr>\r\n",
    "  <tr>\r\n",
    "    <td>float</td>\r\n",
    "    <td>Número decimal</td>\r\n",
    "    <td>Coma flotante de doble precisión</td>\r\n",
    "    <td>3.1415927</td>\r\n",
    "  </tr>\r\n",
    "  <tr>\r\n",
    "    <td>complex</td>\r\n",
    "    <td>Número complejo</td>\r\n",
    "    <td>Parte real y parte imaginaria j.</td>\r\n",
    "    <td>(4.5 + 3j)</td>\r\n",
    "  </tr>\r\n",
    "  <tr>\r\n",
    "    <td>bool</td>\r\n",
    "    <td>Booleano</td>\r\n",
    "    <td>Valor booleano (verdadero o falso)</td>\r\n",
    "    <td>True o False</td>\r\n",
    "  </tr>\r\n",
    "</tbody>\r\n",
    "</table></tr>\r\n",
    "</tbody>\r\n",
    "</table>"
   ]
  },
  {
   "cell_type": "markdown",
   "id": "56359965-fe47-414d-809f-ac4daf633a7d",
   "metadata": {
    "editable": true,
    "slideshow": {
     "slide_type": "subslide"
    },
    "tags": []
   },
   "source": [
    "## Tipos de datos incorporados (_built-in_)\n",
    "\n",
    "Son tipos de datos disponibles de inicio\n",
    "\n",
    "- Suelen ser más eficientes que los definidos por los usuarios\n",
    "- Extensibles (por nuevas _clases_)\n",
    "\n",
    "Estos tipos son (entre otros):\n",
    "\n",
    "- Números: `int`, `float`, `complex`\n",
    "- Booleans: `False`, `True`\n",
    "- Nulo: `None`\n",
    "- Strings (`str`): `\"abcdef\"`\n",
    "- Secuencias (listas, tuplas, sets...): `[0, 'a', 2]`\n",
    "- Diccionarios (mapas): `{‘a’: 1, ‘b’: 3}`\n",
    "- Otros: secuencias binarias (_bytes_), ficheros, clases, módulos, funciones, tipos..."
   ]
  },
  {
   "cell_type": "code",
   "execution_count": null,
   "id": "e3111979-9059-4e66-9a85-0eed0d3a0902",
   "metadata": {
    "editable": true,
    "slideshow": {
     "slide_type": ""
    },
    "tags": []
   },
   "outputs": [],
   "source": [
    "type(3)"
   ]
  },
  {
   "cell_type": "code",
   "execution_count": null,
   "id": "554f3038-927c-4af1-9d6c-563c9a47c3b6",
   "metadata": {
    "editable": true,
    "slideshow": {
     "slide_type": ""
    },
    "tags": []
   },
   "outputs": [],
   "source": [
    "type(3.0)"
   ]
  },
  {
   "cell_type": "code",
   "execution_count": null,
   "id": "f5d4eccc-cee0-4212-b50f-dbb69278fd9c",
   "metadata": {
    "editable": true,
    "slideshow": {
     "slide_type": ""
    },
    "tags": []
   },
   "outputs": [],
   "source": [
    "type('3')"
   ]
  },
  {
   "cell_type": "code",
   "execution_count": null,
   "id": "b11c69ef-16f9-4cdf-b2d3-c196747dd0f3",
   "metadata": {
    "editable": true,
    "slideshow": {
     "slide_type": ""
    },
    "tags": []
   },
   "outputs": [],
   "source": [
    "type( [0,1,2,3] )"
   ]
  },
  {
   "cell_type": "markdown",
   "id": "de709685-bf01-4574-9f64-b9d0b51bc31b",
   "metadata": {
    "editable": true,
    "slideshow": {
     "slide_type": "subslide"
    },
    "tags": []
   },
   "source": [
    "### Operaciones con diferentes tipos\n",
    "\n",
    "Por lo general, no es posible realizar operaciones con diferentes tipos, al menos que la función específica lo admita."
   ]
  },
  {
   "cell_type": "markdown",
   "id": "c6b71e6e-8bf7-4ddb-8536-c0c917f564aa",
   "metadata": {
    "editable": true,
    "slideshow": {
     "slide_type": "subslide"
    },
    "tags": []
   },
   "source": [
    "- En general, no hay conversión de tipos automático (solo en casos concretos)."
   ]
  },
  {
   "cell_type": "code",
   "execution_count": null,
   "id": "68b84f18-405d-4186-95f7-224e53532cd6",
   "metadata": {
    "editable": true,
    "slideshow": {
     "slide_type": ""
    },
    "tags": []
   },
   "outputs": [],
   "source": [
    "\"Resultado: \" + str(25)"
   ]
  },
  {
   "cell_type": "markdown",
   "id": "6a628677-243d-4a44-982d-5396c303fbec",
   "metadata": {
    "editable": true,
    "slideshow": {
     "slide_type": "subslide"
    },
    "tags": []
   },
   "source": [
    "<font size=3>\n",
    "<div class=\"alert alert-block alert-info\">\n",
    "Ejercicio 1.4.: Asigna el valor de 100 a la variable `capital` y posteriormente imprime el mensaje: \"El capital es de $100\":\n",
    "</div>\n",
    "</font>\n",
    "\n",
    "Posiciona el cursor en la siguiente celda y asigna los valores de las variables y la funcion print. Posteriormente ejecútalo con `CONTROL y ENTER` simultáneamente"
   ]
  },
  {
   "cell_type": "code",
   "execution_count": null,
   "id": "3094a361-6a8f-4078-94fd-eeb635a3e356",
   "metadata": {
    "editable": true,
    "slideshow": {
     "slide_type": ""
    },
    "tags": []
   },
   "outputs": [],
   "source": [
    "capital = \n",
    "print(\"El capital es \" +   )"
   ]
  },
  {
   "cell_type": "markdown",
   "id": "e66824d6-25a1-4f35-94bb-7fc6a698cf62",
   "metadata": {
    "editable": true,
    "slideshow": {
     "slide_type": ""
    },
    "tags": []
   },
   "source": [
    "La operacion `+` acepta valores del mismo tipo. Para poder `concatenar` un texto con un número, hay que utilizar la función `str()` para convertir el número a texto."
   ]
  },
  {
   "cell_type": "markdown",
   "id": "6d999d24-c922-4f3d-9a4c-5704b54f7c2a",
   "metadata": {
    "editable": true,
    "slideshow": {
     "slide_type": "subslide"
    },
    "tags": []
   },
   "source": [
    "### str - Cadenas de Caracteres\n",
    "\n",
    "Cadenas de caracteres se almacenan como _puntos de código_ de Unicode (es decir, sin una codificación concreta).\n",
    "\n",
    "- Por defecto, se usa la codificación _UTF-8_ para operaciones de entrada/salida.\n",
    "\n",
    "En su manera más simple (y habitual), se crean con literales, usando `'` o `\"`, de varias formas:"
   ]
  },
  {
   "cell_type": "code",
   "execution_count": null,
   "id": "d47794c7-5bee-4766-ac1b-b982eedd83b7",
   "metadata": {
    "editable": true,
    "slideshow": {
     "slide_type": ""
    },
    "tags": []
   },
   "outputs": [],
   "source": [
    "print(\"Hola\")"
   ]
  },
  {
   "cell_type": "markdown",
   "id": "7a259aab-89d8-4120-bce0-f4e3520321d2",
   "metadata": {
    "editable": true,
    "slideshow": {
     "slide_type": "subslide"
    },
    "tags": []
   },
   "source": [
    "* Se puede accesar un caracter del string utilizando `[]`\n",
    "* Importante resaltar que el primer caracter está en la posición 0\n",
    "* También se puede accesar un corte del string utilizando `[pos inicial:pos final]`, considera que la posición final no se incluye."
   ]
  },
  {
   "cell_type": "code",
   "execution_count": null,
   "id": "3849bd6e-ca09-4be7-b196-0cde178ddeb9",
   "metadata": {
    "editable": true,
    "slideshow": {
     "slide_type": ""
    },
    "tags": []
   },
   "outputs": [],
   "source": [
    "saludo = \"Hola mundo!\"\n",
    "print( saludo[5] )\n",
    "print(saludo[5:8] )\n",
    "print( saludo[3:] )"
   ]
  },
  {
   "cell_type": "markdown",
   "id": "1703d8dc-f458-4da3-b70d-96e885c18680",
   "metadata": {
    "editable": true,
    "slideshow": {
     "slide_type": "subslide"
    },
    "tags": []
   },
   "source": [
    "<font size=5>\n",
    "<div class=\"alert alert-block alert-info\">\n",
    "Ejercicio 1.5.: Asigna tu nombre a la variable nombre y despliega el valor utilizando print.\n",
    "</div>\n",
    "</font>\n",
    "\n",
    "Posiciona el cursor en la siguiente celda y asigna los valores de las variables y la funcion print. Posteriormente ejecútalo con `CONTROL y ENTER` simultáneamente"
   ]
  },
  {
   "cell_type": "code",
   "execution_count": null,
   "id": "89c1c43c-4bc1-47b5-9458-68198a6fa0ff",
   "metadata": {
    "editable": true,
    "slideshow": {
     "slide_type": ""
    },
    "tags": []
   },
   "outputs": [],
   "source": [
    "nombre = \"\"\n",
    "print(nombre)"
   ]
  },
  {
   "cell_type": "markdown",
   "id": "e60b9c81-ea14-435a-92f9-02512cd24774",
   "metadata": {
    "editable": true,
    "slideshow": {
     "slide_type": ""
    },
    "tags": []
   },
   "source": [
    "Ahora imprime el tercer caracter de tu nombre, utilizando corchetes `[2]`"
   ]
  },
  {
   "cell_type": "code",
   "execution_count": null,
   "id": "3a913a47-d4e9-47b1-af0b-116354bac2f6",
   "metadata": {
    "editable": true,
    "slideshow": {
     "slide_type": ""
    },
    "tags": []
   },
   "outputs": [],
   "source": [
    "print(nombre[2])"
   ]
  },
  {
   "cell_type": "markdown",
   "id": "8c89395c-9197-4650-afa0-6620dfa0c41e",
   "metadata": {
    "editable": true,
    "slideshow": {
     "slide_type": "subslide"
    },
    "tags": []
   },
   "source": [
    "Ahora imprime del tercer al sexto caracter, utilizando corchetes y los dos puntos para definir un rango `[2:5]`. (NOTA: por convención, el elemento de la derecha no se incluye)."
   ]
  },
  {
   "cell_type": "code",
   "execution_count": null,
   "id": "a03b35dd-79aa-4e0a-b61c-a52f8ae2558a",
   "metadata": {
    "editable": true,
    "slideshow": {
     "slide_type": ""
    },
    "tags": []
   },
   "outputs": [],
   "source": [
    "print(nombre[2:5])"
   ]
  },
  {
   "cell_type": "markdown",
   "id": "1b44f50c-3e0c-4756-92b4-0b20adea4c71",
   "metadata": {
    "editable": true,
    "slideshow": {
     "slide_type": ""
    },
    "tags": []
   },
   "source": [
    "- Como sus caracteres pueden recorrerse uno a uno (son _iterables_), los strings también son secuencias.\n",
    "  - Eso implica que aceptan muchos métodos de secuencias, y se pueden usar en un bucle `for` que veremos más adelante."
   ]
  },
  {
   "cell_type": "markdown",
   "id": "778c558d-1ef4-4c7e-8c5f-cf55fe172bde",
   "metadata": {
    "editable": true,
    "slideshow": {
     "slide_type": "subslide"
    },
    "tags": []
   },
   "source": [
    "### Concatenar cadenas de texto\n",
    "\n",
    "* El operador `+` permite concatenar o unir cadenas de caracteres"
   ]
  },
  {
   "cell_type": "code",
   "execution_count": null,
   "id": "b0be5590-8dea-4262-8d88-9825887c9e0d",
   "metadata": {
    "editable": true,
    "slideshow": {
     "slide_type": ""
    },
    "tags": []
   },
   "outputs": [],
   "source": [
    "'ABC' + 'def'"
   ]
  },
  {
   "cell_type": "code",
   "execution_count": null,
   "id": "8b0af234-c26b-4c42-8e98-b0d567344bc5",
   "metadata": {
    "editable": true,
    "slideshow": {
     "slide_type": ""
    },
    "tags": []
   },
   "outputs": [],
   "source": [
    "nombre = 'Juan'\n",
    "print( \" El nombre es: \" + nombre )"
   ]
  },
  {
   "cell_type": "markdown",
   "id": "311838fb-4302-4fe1-98a0-1b18b17a5043",
   "metadata": {
    "editable": true,
    "slideshow": {
     "slide_type": "subslide"
    },
    "tags": []
   },
   "source": [
    "### Funciones de strings\n",
    "\n",
    "* Los strings son objetos que tienen `metodos`, es decir, funciones incorporadas"
   ]
  },
  {
   "cell_type": "code",
   "execution_count": null,
   "id": "6e53617f-135e-4f23-a598-9c10d5936d1d",
   "metadata": {
    "editable": true,
    "slideshow": {
     "slide_type": ""
    },
    "tags": []
   },
   "outputs": [],
   "source": [
    "nombre = \"python es lo máximo\"\n",
    "nombre.capitalize()"
   ]
  },
  {
   "cell_type": "code",
   "execution_count": null,
   "id": "2fbacffc-062e-4ade-952d-e1d3e0381024",
   "metadata": {
    "editable": true,
    "slideshow": {
     "slide_type": ""
    },
    "tags": []
   },
   "outputs": [],
   "source": [
    "nombre.upper()"
   ]
  },
  {
   "cell_type": "markdown",
   "id": "375d3f9e-7d32-4240-a11a-9ec87876208b",
   "metadata": {
    "editable": true,
    "slideshow": {
     "slide_type": "subslide"
    },
    "tags": []
   },
   "source": [
    "### Números\n",
    "\n",
    "Funcionan como en otros lenguajes\n",
    "\n",
    "- Enteros: `int`\n",
    "- Decimal: `float`\n",
    "- Complejos: `complex`"
   ]
  },
  {
   "cell_type": "code",
   "execution_count": null,
   "id": "c1819885-43a6-4ea9-b22e-2e37762dc924",
   "metadata": {
    "editable": true,
    "slideshow": {
     "slide_type": ""
    },
    "tags": []
   },
   "outputs": [],
   "source": [
    "print(type(3))\n",
    "print(type(2.0))\n",
    "print(type(2+5j))"
   ]
  },
  {
   "cell_type": "markdown",
   "id": "c6d92711-75f6-40ad-8a05-bea9c31f720b",
   "metadata": {
    "editable": true,
    "slideshow": {
     "slide_type": ""
    },
    "tags": []
   },
   "source": [
    "Soportan las operaciones habituales:\r\n",
    "\r\n",
    "Entre otras: +   -  *  /  %  abs()  **  //"
   ]
  },
  {
   "cell_type": "code",
   "execution_count": null,
   "id": "6664a126-56ef-4a9a-a8a8-964d5e19bdcf",
   "metadata": {
    "editable": true,
    "slideshow": {
     "slide_type": ""
    },
    "tags": []
   },
   "outputs": [],
   "source": [
    "a = 5\n",
    "b = 2\n",
    "print(' a / b -->', a/b)\n",
    "print('a // b -->', a//b)\n",
    "print(' a % b -->', a%b)"
   ]
  },
  {
   "cell_type": "markdown",
   "id": "cf676d06-a7a9-451e-9ace-66f61d3a5802",
   "metadata": {
    "editable": true,
    "slideshow": {
     "slide_type": "subslide"
    },
    "tags": []
   },
   "source": [
    "### list - Listas\n",
    "\n",
    "En ciencia de datos, se deben manejar múltiples datos. Es poco práctico asignar una variable para cada punto.\n",
    "\n",
    "Por ejemplo, las alturas de un grupo pueden ser"
   ]
  },
  {
   "cell_type": "code",
   "execution_count": null,
   "id": "6294e96e-34db-43c7-8ef0-c01bf11562c5",
   "metadata": {
    "editable": true,
    "slideshow": {
     "slide_type": ""
    },
    "tags": []
   },
   "outputs": [],
   "source": [
    "altura1 = 1.73\n",
    "altura2 = 1.68\n",
    "altura3 = 1.71\n",
    "altura4 = 1.89\n",
    "altura5 = 1.73"
   ]
  },
  {
   "cell_type": "markdown",
   "id": "83323744-d96b-4d23-9cea-5490b26f8c87",
   "metadata": {
    "editable": true,
    "slideshow": {
     "slide_type": "subslide"
    },
    "tags": []
   },
   "source": [
    "Es muy difícil almacenar cientos o miles de datos utilizando variables separadas."
   ]
  },
  {
   "cell_type": "markdown",
   "id": "48332b2c-3673-438c-aa76-36feb81dad51",
   "metadata": {
    "editable": true,
    "slideshow": {
     "slide_type": ""
    },
    "tags": []
   },
   "source": [
    "La solución es utilizar tipos que puedan guardar diferentes valores en una sóla variable.\n",
    "\n",
    "La lista se representa por valores encerrados entre corchetes y separados por comas. \n",
    "\n",
    "Por ejemplo, se pueden guardar todas las alturas del grupo en una sóla variable tipo `lista`:"
   ]
  },
  {
   "cell_type": "code",
   "execution_count": null,
   "id": "f007944d-e9b2-47f7-8de9-869e3077cff0",
   "metadata": {
    "editable": true,
    "slideshow": {
     "slide_type": ""
    },
    "tags": []
   },
   "outputs": [],
   "source": [
    "grupo = [1.73, 1.68, 1.71, 1.89, 1.73]"
   ]
  },
  {
   "cell_type": "code",
   "execution_count": null,
   "id": "6550f114-c481-4a1e-ac5a-47752fc1f0ae",
   "metadata": {
    "editable": true,
    "slideshow": {
     "slide_type": ""
    },
    "tags": []
   },
   "outputs": [],
   "source": [
    "print(grupo[0])"
   ]
  },
  {
   "cell_type": "code",
   "execution_count": null,
   "id": "75ebe75f-1872-41d7-b82e-277b5d1d28e9",
   "metadata": {
    "editable": true,
    "slideshow": {
     "slide_type": ""
    },
    "tags": []
   },
   "outputs": [],
   "source": [
    "print(grupo[2])"
   ]
  },
  {
   "cell_type": "code",
   "execution_count": null,
   "id": "f6db6a11-9e77-4029-bcfc-5303b9452987",
   "metadata": {
    "editable": true,
    "slideshow": {
     "slide_type": ""
    },
    "tags": []
   },
   "outputs": [],
   "source": [
    "print(grupo[-1])"
   ]
  },
  {
   "cell_type": "markdown",
   "id": "bb90bad6-7dc0-47de-90e1-0f4773d5bd7c",
   "metadata": {
    "editable": true,
    "slideshow": {
     "slide_type": "subslide"
    },
    "tags": []
   },
   "source": [
    "Una lista puede contener valores de diferentes tipos."
   ]
  },
  {
   "cell_type": "code",
   "execution_count": null,
   "id": "34275b61-abcd-4091-901d-3a15fe489009",
   "metadata": {
    "editable": true,
    "slideshow": {
     "slide_type": ""
    },
    "tags": []
   },
   "outputs": [],
   "source": [
    "grupo2 = [\"liz\", 1.73, \"juan\", 1.68, \"pedro\", 1.71, \"maria\", 1.89, \"helena\", 1.73]"
   ]
  },
  {
   "cell_type": "code",
   "execution_count": null,
   "id": "1773c9d4-6a84-45cd-9530-5e0c7b2aaed3",
   "metadata": {
    "editable": true,
    "slideshow": {
     "slide_type": ""
    },
    "tags": []
   },
   "outputs": [],
   "source": [
    "print( grupo2[0:2] )"
   ]
  },
  {
   "cell_type": "markdown",
   "id": "d1e082b4-8f2a-4da8-901e-205ee3a5fed5",
   "metadata": {
    "editable": true,
    "slideshow": {
     "slide_type": ""
    },
    "tags": []
   },
   "source": [
    "`[ inicio(incluido) : final(excluido) ]`"
   ]
  },
  {
   "cell_type": "markdown",
   "id": "bbd4a8e7-193e-4f3d-b13c-48091848a061",
   "metadata": {
    "editable": true,
    "slideshow": {
     "slide_type": "subslide"
    },
    "tags": []
   },
   "source": [
    "#### Cambiar un elemento de una lista"
   ]
  },
  {
   "cell_type": "code",
   "execution_count": null,
   "id": "3540cad4-7016-4ab7-9f0f-653e37a8b72b",
   "metadata": {
    "editable": true,
    "slideshow": {
     "slide_type": ""
    },
    "tags": []
   },
   "outputs": [],
   "source": [
    "grupo2 = [\"liz\", 1.73, \"juan\", 1.68, \"pedro\", 1.71, \"maria\", 1.89, \"helena\", 1.73]\n",
    "print(grupo2)"
   ]
  },
  {
   "cell_type": "markdown",
   "id": "05376188-04c2-42c6-9a15-bd399da42d41",
   "metadata": {
    "editable": true,
    "slideshow": {
     "slide_type": ""
    },
    "tags": []
   },
   "source": [
    "* cambiar el nombre de 'pedro' por 'Peter'"
   ]
  },
  {
   "cell_type": "code",
   "execution_count": null,
   "id": "84d1ac52-c75c-4b04-867c-a01f5ad974fd",
   "metadata": {
    "editable": true,
    "slideshow": {
     "slide_type": "fragment"
    },
    "tags": []
   },
   "outputs": [],
   "source": [
    "grupo2[4] = 'Peter'\n",
    "print(grupo2)"
   ]
  },
  {
   "cell_type": "markdown",
   "id": "df73cc04-7414-4d35-9540-1dcee8b7c444",
   "metadata": {
    "editable": true,
    "slideshow": {
     "slide_type": ""
    },
    "tags": []
   },
   "source": [
    "#### Borrar un elemento de la lista"
   ]
  },
  {
   "cell_type": "code",
   "execution_count": null,
   "id": "e334305c-760e-4ef7-9536-f4655a61d526",
   "metadata": {
    "editable": true,
    "slideshow": {
     "slide_type": ""
    },
    "tags": []
   },
   "outputs": [],
   "source": [
    "grupo2 = [\"liz\", 1.73, \"juan\", 1.68, \"pedro\", 1.71, \"maria\", 1.89, \"helena\", 1.73]\n",
    "print(grupo2)"
   ]
  },
  {
   "cell_type": "markdown",
   "id": "4f18fcd5-3961-4e20-841b-ac76094837c2",
   "metadata": {
    "editable": true,
    "slideshow": {
     "slide_type": ""
    },
    "tags": []
   },
   "source": [
    "* borrar el nombre y la altura de 'Elena'"
   ]
  },
  {
   "cell_type": "code",
   "execution_count": null,
   "id": "9df8267d-fec4-48f4-9347-b40cf49e9d23",
   "metadata": {
    "editable": true,
    "slideshow": {
     "slide_type": ""
    },
    "tags": []
   },
   "outputs": [],
   "source": [
    "del(grupo2[8:10])\n",
    "print(grupo2)"
   ]
  },
  {
   "cell_type": "markdown",
   "id": "33657111-cf59-4aa8-969f-be2ce611ca9a",
   "metadata": {
    "editable": true,
    "slideshow": {
     "slide_type": "subslide"
    },
    "tags": []
   },
   "source": [
    "#### Añadir un elemento a la lista"
   ]
  },
  {
   "cell_type": "code",
   "execution_count": null,
   "id": "159646cb-edbd-4177-9214-2a039806385e",
   "metadata": {
    "editable": true,
    "slideshow": {
     "slide_type": ""
    },
    "tags": []
   },
   "outputs": [],
   "source": [
    "grupo2 = [\"liz\", 1.73, \"juan\", 1.68, \"pedro\", 1.71, \"maria\", 1.89, \"helena\", 1.73]\n",
    "print(grupo2)"
   ]
  },
  {
   "cell_type": "markdown",
   "id": "9d523c87-8bbf-42e2-b2b0-c66fc15b21c9",
   "metadata": {
    "editable": true,
    "slideshow": {
     "slide_type": ""
    },
    "tags": []
   },
   "source": [
    "* Añadir a 'Mariana' con una altura de 1.80"
   ]
  },
  {
   "cell_type": "code",
   "execution_count": null,
   "id": "84148270-7f72-4e45-bea6-41d94f703fb3",
   "metadata": {
    "editable": true,
    "slideshow": {
     "slide_type": ""
    },
    "tags": []
   },
   "outputs": [],
   "source": [
    "grupo2 = grupo2 + ['Mariana', 1.80]\n",
    "print(grupo2)"
   ]
  },
  {
   "cell_type": "markdown",
   "id": "e9290681-2fed-4000-af95-876f5d882400",
   "metadata": {
    "editable": true,
    "slideshow": {
     "slide_type": ""
    },
    "tags": []
   },
   "source": [
    "También se puede realizar con la funcion .append()"
   ]
  },
  {
   "cell_type": "markdown",
   "id": "4d6efb2a-a6c1-47dd-82ac-a3a656c89872",
   "metadata": {
    "editable": true,
    "slideshow": {
     "slide_type": ""
    },
    "tags": []
   },
   "source": [
    "#### Copiar repetidamente elementos"
   ]
  },
  {
   "cell_type": "code",
   "execution_count": null,
   "id": "23b10ee5-6ba2-4602-a80a-f22e425601f8",
   "metadata": {
    "editable": true,
    "slideshow": {
     "slide_type": ""
    },
    "tags": []
   },
   "outputs": [],
   "source": [
    "print([1, 2] * 3)"
   ]
  },
  {
   "cell_type": "markdown",
   "id": "1e7988d9-fa2f-4a87-9b98-597e2a060c04",
   "metadata": {
    "editable": true,
    "slideshow": {
     "slide_type": "slide"
    },
    "tags": []
   },
   "source": [
    "<div class=\"alert alert-block alert-info\">\n",
    "Ejercicio 1.6.: Ejercicios con listas.\n",
    "</div>\n",
    "A partir de la siguiente lista, realiza los siguientes ejercicios:"
   ]
  },
  {
   "cell_type": "code",
   "execution_count": null,
   "id": "a07738fe-1fae-4897-a885-91cd9b7cd77b",
   "metadata": {
    "editable": true,
    "slideshow": {
     "slide_type": ""
    },
    "tags": []
   },
   "outputs": [],
   "source": [
    "estados = [\"Aguascalientes\",\n",
    "\"Baja California\",\n",
    "\"Baja California Sur\",\n",
    "\"Campeche\",\n",
    "\"Chiapas\",\n",
    "\"Chihuahua\",\n",
    "\"Ciudad de México\",\n",
    "\"Coahuila\",\n",
    "\"Colima\",\n",
    "\"Durango\",\n",
    "\"Estado de México\",\n",
    "\"Guanajuato\",\n",
    "\"Guerrero\",\n",
    "\"Hidalgo\",\n",
    "\"Jalisco\",\n",
    "\"Michoacán\",\n",
    "\"Morelos\",\n",
    "\"Nayarit\",\n",
    "\"Nuevo León\",\n",
    "\"Oaxaca\",\n",
    "\"Puebla\",\n",
    "\"Querétaro\",\n",
    "\"Quintana Roo\",\n",
    "\"San Luis Potosí\",\n",
    "\"Sinaloa\",\n",
    "\"Sonora\",\n",
    "\"Tabasco\",\n",
    "\"Tamaulipas\",\n",
    "\"Tlaxcala\",\n",
    "\"Veracruz\",\n",
    "\"Yucatán\",\n",
    "\"Zacatecas\"]"
   ]
  },
  {
   "cell_type": "markdown",
   "id": "23ae54a4-4a09-473e-b3ce-c86b852e9b7e",
   "metadata": {
    "editable": true,
    "slideshow": {
     "slide_type": "slide"
    },
    "tags": []
   },
   "source": [
    "* ¿Cuál es el número de estados? Utiliza la funcion `len()`"
   ]
  },
  {
   "cell_type": "code",
   "execution_count": null,
   "id": "b0063855-a742-40f1-acbe-4738e5fb386d",
   "metadata": {},
   "outputs": [],
   "source": [
    "len(estados)"
   ]
  },
  {
   "cell_type": "markdown",
   "id": "90b549e6-373c-48a5-93e8-921cd25d083e",
   "metadata": {
    "editable": true,
    "slideshow": {
     "slide_type": ""
    },
    "tags": []
   },
   "source": [
    "* Cambia el \"Estado de México\" por solamente \"México\", hazlo directamente utilizando la posición del estado [] y posteriormente imprime la lista para revisar el resultado"
   ]
  },
  {
   "cell_type": "code",
   "execution_count": null,
   "id": "522b6ab6-64e7-4f29-8d8b-6f5612515f76",
   "metadata": {},
   "outputs": [],
   "source": []
  },
  {
   "cell_type": "markdown",
   "id": "1be6195c-9aa7-456d-81a3-b92d38ed5067",
   "metadata": {
    "editable": true,
    "slideshow": {
     "slide_type": ""
    },
    "tags": []
   },
   "source": [
    "* Ordena la lista en orden alfabético, utiliza el método `.sort()` e imprime el resultado. "
   ]
  },
  {
   "cell_type": "code",
   "execution_count": null,
   "id": "026e8824-fbc3-488c-9a7d-d804f6ab4a37",
   "metadata": {
    "editable": true,
    "slideshow": {
     "slide_type": ""
    },
    "tags": []
   },
   "outputs": [],
   "source": [
    "estados.sort()\n",
    "print(estados)"
   ]
  },
  {
   "cell_type": "markdown",
   "id": "9d0de924-c7ca-41cb-aa82-bf53826037da",
   "metadata": {
    "editable": true,
    "slideshow": {
     "slide_type": "slide"
    },
    "tags": []
   },
   "source": [
    "### Ranges\n",
    "\n",
    "Secuencias inmutables y ordenadas de enteros.\n",
    "\n",
    "- Muy usados p. ej. en bucles (`for`)\n",
    "\n",
    "- no almacena todos los valores que contiene, sino que los _genera_ sobre la marcha, conforme se le solicitan. \n",
    "\n",
    "  - `range` solo almacena _inicio_, _final_, _paso_.\n",
    "  "
   ]
  },
  {
   "cell_type": "code",
   "execution_count": null,
   "id": "beb0048b-3a32-43aa-9886-402ac9a4baca",
   "metadata": {
    "editable": true,
    "slideshow": {
     "slide_type": ""
    },
    "tags": []
   },
   "outputs": [],
   "source": [
    "for val in range(5):  print(val)"
   ]
  },
  {
   "cell_type": "code",
   "execution_count": null,
   "id": "d25e0ee6-b3c6-4788-8cdd-954d526602aa",
   "metadata": {
    "editable": true,
    "slideshow": {
     "slide_type": ""
    },
    "tags": []
   },
   "outputs": [],
   "source": [
    "r = range(0, 10, 2)\n",
    "print(r)\n",
    "## el objeto no imprime los valores, hay que hacerlo manualmente"
   ]
  },
  {
   "cell_type": "code",
   "execution_count": null,
   "id": "14d5cee8-0a65-476d-8d9d-8af738e68334",
   "metadata": {
    "editable": true,
    "slideshow": {
     "slide_type": ""
    },
    "tags": []
   },
   "outputs": [],
   "source": [
    "for x in r:  print(x)"
   ]
  },
  {
   "cell_type": "code",
   "execution_count": null,
   "id": "1237285d-aef9-40fd-bfe8-7bd4467bb3e7",
   "metadata": {
    "editable": true,
    "slideshow": {
     "slide_type": ""
    },
    "tags": []
   },
   "outputs": [],
   "source": [
    "list(r)"
   ]
  },
  {
   "cell_type": "markdown",
   "id": "478e1096-5dd7-41ca-8674-cb6fdfdf6141",
   "metadata": {
    "editable": true,
    "slideshow": {
     "slide_type": "slide"
    },
    "tags": []
   },
   "source": [
    "<div class=\"alert alert-block alert-info\">\n",
    "Ejercicio 1.7.: Utilizar rangos\n",
    "</div>\n",
    "Crea un rango iniciando en 1 y terminando en 20 y posteriormente imprímelos con un ciclo `for`.\n",
    "\n",
    "- `range` solo almacena _inicio_, _final_, _paso_."
   ]
  },
  {
   "cell_type": "code",
   "execution_count": null,
   "id": "d07e1966-1e5e-4e58-8f95-4f6d842e586e",
   "metadata": {},
   "outputs": [],
   "source": [
    "rango = range(20)\n",
    "\n",
    "for x in rango: print(x)\n"
   ]
  },
  {
   "cell_type": "code",
   "execution_count": null,
   "id": "4b28e73c-c9ae-4400-aa11-38e894ebdec1",
   "metadata": {},
   "outputs": [],
   "source": [
    "rango = range(20)\n",
    "\n",
    "for x in rango: print(x)\n"
   ]
  },
  {
   "cell_type": "markdown",
   "id": "94f08fc7-1b6b-4b3a-9867-1fd8b25021a1",
   "metadata": {
    "editable": true,
    "slideshow": {
     "slide_type": "subslide"
    },
    "tags": []
   },
   "source": [
    "### Boolean\n",
    "\n",
    "Los `booleans` solo incluyen a dos valores: las contantes predefinidas: `True` y `False`.\n",
    "\n",
    "Estos dos valores pueden ser el resultado de evaluar:\n",
    "    \n",
    "- Las propias contantes en un programa: `True` y `False`\n",
    "- Una operación lógica: `or`, `and`, `not`\n",
    "- Una comparación: `<`, `<=`, `>`, `>=`, `==`, `!=`, `is`, `is not`\n",
    "- Evaluación de cualquier objeto python\n",
    "  - Por defecto, la evaluación es a `True`\n",
    "  - Excepto: `False`, `None`, `0`, secuencias vacías, objetos con un método especial `__bool__` que devuelva `False`"
   ]
  },
  {
   "cell_type": "code",
   "execution_count": null,
   "id": "04df6d2c-9c44-40be-ae56-e5e2011ae5c4",
   "metadata": {
    "editable": true,
    "slideshow": {
     "slide_type": "subslide"
    },
    "tags": []
   },
   "outputs": [],
   "source": [
    "if 4 == 4: print('4==4', '\\t-->  Verdadero')\n",
    "else:      print('4==4', '\\t-->  Falso')\n",
    "    \n",
    "if 4 == 5: print('4==5', '\\t-->  Verdadero')\n",
    "else:      print('4==5', '\\t-->  Falso')"
   ]
  },
  {
   "cell_type": "markdown",
   "id": "50ab18fc-fc9b-42ee-8f39-f6ea0814be60",
   "metadata": {
    "editable": true,
    "slideshow": {
     "slide_type": "subslide"
    },
    "tags": []
   },
   "source": [
    "## Expresiones y sentencias\n",
    "\n",
    "Una _expresión_ es una porción de código que se evalúa a un valor.\n",
    "\n",
    " - Una expresión simple es una constante (numérica o string), o una variable: `3`, `'a'`, `var`\n",
    " - Las expresiones se relacionan por medio de operadores, creando expresiones más complejas: `3 + 2`,  `['a', 'b']`, `mi_funcion(var)`\n",
    " \n",
    "Una _sentencia_ es una instrucción que python puede interpretar (ejecutar)\n",
    "\n",
    "- Las expresiones forman parte de sentencias\n",
    "- Existen sentencias simples y compuestas (involucrando varias sentencias simples)"
   ]
  },
  {
   "cell_type": "markdown",
   "id": "e34cbf71-7b47-4a1e-a10a-80c848b27bed",
   "metadata": {
    "editable": true,
    "slideshow": {
     "slide_type": "subslide"
    },
    "tags": []
   },
   "source": [
    "## Operadores"
   ]
  },
  {
   "cell_type": "markdown",
   "id": "5eb4c048-d19e-4b93-a3c9-3bf494272d7e",
   "metadata": {
    "editable": true,
    "slideshow": {
     "slide_type": ""
    },
    "tags": []
   },
   "source": [
    "\n",
    "<table>\r\n",
    "<thead>\r\n",
    "  <tr>\r\n",
    "    <th>Operación</th>\r\n",
    "    <th>Sintaxis</th>\r\n",
    "    <th>Función</th>\r\n",
    "  </tr>\r\n",
    "</thead>\r\n",
    "<tbody>\r\n",
    "  <tr>\r\n",
    "    <td>Adición</td>\r\n",
    "    <td>a + b</td>\r\n",
    "    <td>add(a, b)</td>\r\n",
    "  </tr>\r\n",
    "  <tr>\r\n",
    "    <td>Concatenación (cadenas)</td>\r\n",
    "    <td>seq1 + seq2</td>\r\n",
    "    <td>concat(seq1, seq2)</td>\r\n",
    "  </tr>\r\n",
    "  <tr>\r\n",
    "    <td>Chequeo de pertenencia</td>\r\n",
    "    <td>obj in seq</td>\r\n",
    "    <td>contains(seq, obj)</td>\r\n",
    "  </tr>\r\n",
    "  <tr>\r\n",
    "    <td>División</td>\r\n",
    "    <td>a / b</td>\r\n",
    "    <td>truediv(a, b)</td>\r\n",
    "  </tr>\r\n",
    "  <tr>\r\n",
    "    <td>División</td>\r\n",
    "    <td>a // b</td>\r\n",
    "    <td>floordiv(a, b)</td>\r\n",
    "  </tr>\r\n",
    "  <tr>\r\n",
    "    <td>Exponenciación</td>\r\n",
    "    <td>a ** b</td>\r\n",
    "    <td>pow(a, b)</td>\r\n",
    "  </tr>\r\n",
    "  <tr>\r\n",
    "    <td>Identidad</td>\r\n",
    "    <td>a is b</td>\r\n",
    "    <td>is_(a, b)</td>\r\n",
    "  </tr>\r\n",
    "  <tr>\r\n",
    "    <td>Identidad</td>\r\n",
    "    <td>a is not b</td>\r\n",
    "    <td>is_not(a, b)</td>\r\n",
    "  </tr>\r\n",
    "  <tr>\r\n",
    "    <td>Asignación indexada</td>\r\n",
    "    <td>obj[t;= b</td>\r\n",
    "    <td>ge(a, b)</td>\r\n",
    "  </tr>\r\n",
    "  <tr>\r\n",
    "    <td>Ordenado</td>\r\n",
    "    <td>a &gt; b</td>\r\n",
    "    <td>gt(a, b)</td>\r\n",
    "  </tr>\r\n",
    "</tbody>\r\n",
    "</table>"
   ]
  },
  {
   "cell_type": "markdown",
   "id": "0b7c3f7c-21a0-435f-aade-25c7bf9e8f14",
   "metadata": {
    "editable": true,
    "slideshow": {
     "slide_type": "subslide"
    },
    "tags": []
   },
   "source": [
    "\n",
    "<table>\r\n",
    "<thead>\r\n",
    "  <tr>\r\n",
    "    <th>Operación</th>\r\n",
    "    <th>Sintaxis</th>\r\n",
    "    <th>Función</th>\r\n",
    "  </tr>\r\n",
    "</thead>\r\n",
    "<t] = v</td>\r\n",
    "    <td>setitem(obj, k, v)</td>\r\n",
    "  </tr>\r\n",
    "  <tr>\r\n",
    "    <td>Indexado</td>\r\n",
    "    <td>obj[k]</td>\r\n",
    "    <td>getitem(obj, k)</td>\r\n",
    "  </tr>\r\n",
    "  <tr>\r\n",
    "    <td>Módulo</td>\r\n",
    "    <td>a % b</td>\r\n",
    "    <td>mod(a, b)</td>\r\n",
    "  </tr>\r\n",
    "  <tr>\r\n",
    "    <td>Multiplicación</td>\r\n",
    "    <td>a * b</td>\r\n",
    "    <td>mul(a, b)</td>\r\n",
    "  </tr>\r\n",
    "  <tr>\r\n",
    "    <td>Multiplicación de matrices</td>\r\n",
    "    <td>a @ b</td>\r\n",
    "    <td>matmul(a, b)</td>\r\n",
    "  </tr>\r\n",
    "  <tr>\r\n",
    "    <td>Negación (aritmética)</td>\r\n",
    "    <td>- a</td>\r\n",
    "    <td>neg(a)</td>\r\n",
    "  </tr>\r\n",
    "  <tr>\r\n",
    "    <td>Negación (lógica)</td>\r\n",
    "    <td>not a</td>\r\n",
    "    <td>not_(a)</td>\r\n",
    "  </tr>\r\n",
    "  <tr>\r\n",
    "    <td>Positivo</td>\r\n",
    "    <td>+ a</td>\r\n",
    "    <td>pos(a)</td>\r\n",
    "  </tr>\r\n",
    "  <tr>\r\n",
    "    <td>Segmentación</td>\r\n",
    "    <td>seq[i:j]</td>\r\n",
    "    <td>getitem(seq, slice(i, j))</td>\r\n",
    "  </tr>\r\n",
    "  <tr>\r\n",
    "    <td>Sustracción</td>\r\n",
    "    <td>a - b</td>\r\n",
    "    <td>sub(a, b)</td>\r\n",
    "  </tr>\r\n",
    "  <tr>\r\n",
    "    <td>Ordenado</td>\r\n",
    "    <td>a &lt; b</td>\r\n",
    "    <td>lt(a, b)</td>\r\n",
    "  </tr>\r\n",
    "  <tr>\r\n",
    "    <td>Ordenado</td>\r\n",
    "    <td>a &lt;= b</td>\r\n",
    "    <td>le(a, b)</td>\r\n",
    "  </tr>\r\n",
    "  <tr>\r\n",
    "    <td>Igualdad</td>\r\n",
    "    <td>a == b</td>\r\n",
    "    <td>eq(a, b)</td>\r\n",
    "  </tr>\r\n",
    "  <tr>\r\n",
    "    <td>Diferencia</td>\r\n",
    "    <td>a != b</td>\r\n",
    "    <td>ne(a, b)</td>\r\n",
    "  </tr>\r\n",
    "  <tr>\r\n",
    "    <td>Ordenado</td>\r\n",
    "    <td>a &gt;= b</td>\r\n",
    "    <td>ge(a, b)</td>\r\n",
    "  </tr>\r\n",
    "  <tr>\r\n",
    "    <td>Ordenado</td>\r\n",
    "    <td>a &gt; b</td>\r\n",
    "    <td>gt(a, b)</td>\r\n",
    "  </tr>\r\n",
    "</tbody>\r\n",
    "</table>"
   ]
  },
  {
   "cell_type": "markdown",
   "id": "fad464c6-dd34-4a00-b49d-30006d1e7755",
   "metadata": {
    "editable": true,
    "slideshow": {
     "slide_type": "subslide"
    },
    "tags": []
   },
   "source": [
    "### Jerarquía de las operaciones\n",
    "\n",
    "1. ( )\n",
    "2. a ^ n\n",
    "3. a * b\n",
    "4. a + b\n",
    "\n",
    "Si hay operadores del mismo nivel, se resuelve de izquierda a derecha"
   ]
  },
  {
   "cell_type": "markdown",
   "id": "12492d44-b5df-4283-a710-de1682dad5b6",
   "metadata": {
    "editable": true,
    "slideshow": {
     "slide_type": "subslide"
    },
    "tags": []
   },
   "source": [
    "<div class=\"alert alert-block alert-info\">\n",
    "Ejercicio 1.7.: Ejecutar las siguientes operaciones aritméticas\n",
    "</div>\n",
    "Entes de ejecutar estas operaciones, calcula mentalmente el resultado. Considera la `precedencia` de los operadores."
   ]
  },
  {
   "cell_type": "code",
   "execution_count": null,
   "id": "0830dffa-f04b-47d8-ba2c-edc31c4bb065",
   "metadata": {
    "editable": true,
    "slideshow": {
     "slide_type": ""
    },
    "tags": []
   },
   "outputs": [],
   "source": [
    "5 - 3 - 2 * 2"
   ]
  },
  {
   "cell_type": "code",
   "execution_count": null,
   "id": "4e5e7362-88f3-4867-9a4e-d87e4e7087c3",
   "metadata": {
    "editable": true,
    "slideshow": {
     "slide_type": ""
    },
    "tags": []
   },
   "outputs": [],
   "source": [
    "5 - 2 ^ 2"
   ]
  },
  {
   "cell_type": "code",
   "execution_count": null,
   "id": "e4e964ee-6b4e-4f6d-a4a4-a4ad521ac178",
   "metadata": {
    "editable": true,
    "slideshow": {
     "slide_type": ""
    },
    "tags": []
   },
   "outputs": [],
   "source": []
  },
  {
   "cell_type": "markdown",
   "id": "3d1d8c03-1a32-4f0c-ae0f-13a66c18badf",
   "metadata": {
    "editable": true,
    "slideshow": {
     "slide_type": "slide"
    },
    "tags": []
   },
   "source": [
    "# Condicionales y control de flujo"
   ]
  },
  {
   "cell_type": "markdown",
   "id": "0c80d1b4-0ebf-4758-b637-77fafc6b59e0",
   "metadata": {
    "editable": true,
    "slideshow": {
     "slide_type": "subslide"
    },
    "tags": []
   },
   "source": [
    "### La sentencia IF\n",
    "\n",
    "Es una sentencia compuesta de control de flujo; es decir, para ejecutar unas instrucciones, u otras, en función de alguna condición.\n",
    "\n",
    "Su forma más básica es:\n",
    "\n",
    "```python\n",
    "    if <condicion>:  sentencia\n",
    "```\n",
    "\n",
    "O bien:\n",
    "\n",
    "```python\n",
    "    if <condicion>:\n",
    "        sentencia\n",
    "        ...\n",
    "```\n",
    "  "
   ]
  },
  {
   "cell_type": "markdown",
   "id": "5f6bb635-677f-490e-a81f-45961e21bc79",
   "metadata": {
    "editable": true,
    "slideshow": {
     "slide_type": "subslide"
    },
    "tags": []
   },
   "source": [
    "Más generalmente, para especificar alternativas:\n",
    "\n",
    "```python\n",
    "    if <condicion>:\n",
    "        do something\n",
    "        \n",
    "    elif <otra condicion>:\n",
    "        do something else  \n",
    "    ...\n",
    "    \n",
    "    else:\n",
    "        do this if nothing above matched\n",
    "```\n",
    "   "
   ]
  },
  {
   "cell_type": "code",
   "execution_count": null,
   "id": "86101130-4683-4d62-bade-c986397762f1",
   "metadata": {
    "editable": true,
    "slideshow": {
     "slide_type": "subslide"
    },
    "tags": []
   },
   "outputs": [],
   "source": [
    "if 2 == 3:\n",
    "    print('2 es 3')\n",
    "else:\n",
    "    print('No! 2 no es 3')"
   ]
  },
  {
   "cell_type": "code",
   "execution_count": null,
   "id": "a5103641-5255-4c68-8e51-d7a8688f52c3",
   "metadata": {
    "editable": true,
    "slideshow": {
     "slide_type": "subslide"
    },
    "tags": []
   },
   "outputs": [],
   "source": [
    "edad = 25\n",
    "\n",
    "print(\"La persona es\")\n",
    "if edad < 18: # el if termina con : para indicar donde acaba la condición\n",
    "    # el print va indentado con 4 espacios para indicar que está dentro del\n",
    "    # cuerpo del if\n",
    "    print(\"Menor\") \n",
    "else:\n",
    "    #Lo mismo con este print\n",
    "    print(\"Mayor\")\n",
    "    \n",
    "print(\"De edad\")"
   ]
  },
  {
   "cell_type": "markdown",
   "id": "6ba5128a-0e6f-4b30-bf06-a48a5a273633",
   "metadata": {
    "editable": true,
    "slideshow": {
     "slide_type": "slide"
    },
    "tags": []
   },
   "source": [
    "<div class=\"alert alert-block alert-info\">\n",
    "Ejercicio 1.9.: Escribir una sentencia IF, que compruebe una variable numérica `x`.\n",
    "</div>\n",
    "\n",
    "- Si `x` es positiva, mostrará \"POSITIVO\"\n",
    "- Si `x` es negativa, mostrará \"NEGATIVO\"\n",
    "\n",
    "Probarlo para varios valores de `x`, incluido 10."
   ]
  },
  {
   "cell_type": "code",
   "execution_count": null,
   "id": "c6875cc6-fbe8-4215-b1d6-4c38544e7270",
   "metadata": {
    "editable": true,
    "slideshow": {
     "slide_type": ""
    },
    "tags": []
   },
   "outputs": [],
   "source": [
    "x = 10\n",
    "\n",
    "\n",
    "if  :\n",
    "\n",
    "else: \n",
    "    "
   ]
  },
  {
   "cell_type": "markdown",
   "id": "4ce7cc55-12b2-47e0-9854-ebee223c90ae",
   "metadata": {
    "editable": true,
    "slideshow": {
     "slide_type": "subslide"
    },
    "tags": []
   },
   "source": [
    "Ahora, agrega una condición adicional: Si `x` es cero, mostrará \"ZERO\""
   ]
  },
  {
   "cell_type": "code",
   "execution_count": null,
   "id": "7be2b2dd-a172-47ea-8a40-6b196658cd92",
   "metadata": {
    "editable": true,
    "slideshow": {
     "slide_type": ""
    },
    "tags": []
   },
   "outputs": [],
   "source": [
    "x = 10\n",
    "\n",
    "\n",
    "if  :\n",
    "\n",
    "else: \n",
    "    "
   ]
  },
  {
   "cell_type": "markdown",
   "id": "c73743c3-54e3-4c16-93ab-3fb8bc3792ea",
   "metadata": {},
   "source": [
    "Ahora, agrega una condición adicional: Si `x` es cero, mostrará \"ZERO\""
   ]
  },
  {
   "cell_type": "markdown",
   "id": "2aa24150-3896-4a1f-93d3-f66a8c9ff52f",
   "metadata": {
    "editable": true,
    "slideshow": {
     "slide_type": "slide"
    },
    "tags": []
   },
   "source": [
    "## For"
   ]
  },
  {
   "cell_type": "markdown",
   "id": "7e1747d7-3cbf-4611-8cca-3e7dbe8d72d6",
   "metadata": {
    "editable": true,
    "slideshow": {
     "slide_type": ""
    },
    "tags": []
   },
   "source": [
    "La sentencia for de Python itera sobre los ítems de cualquier secuencia (una lista o una cadena de texto), en el orden que aparecen en la secuencia. Por ejemplo, el siguiente código muestra cada palabla de la lista con su longitud:"
   ]
  },
  {
   "cell_type": "code",
   "execution_count": null,
   "id": "ed99610e-e717-4c8d-a6a9-4fe89d0e1238",
   "metadata": {
    "editable": true,
    "slideshow": {
     "slide_type": ""
    },
    "tags": []
   },
   "outputs": [],
   "source": [
    "# longitud de las siguientes cadenas:\n",
    "words = ['gato', 'ventana', 'computadora']\n",
    "for w in words:\n",
    "    print(w, len(w))"
   ]
  },
  {
   "cell_type": "markdown",
   "id": "03f18ad8-1bed-4f3e-a0c4-368eeeacb7e6",
   "metadata": {
    "editable": true,
    "slideshow": {
     "slide_type": ""
    },
    "tags": []
   },
   "source": [
    "Los ciclos for tienen la sintaxis `for variable in lista:`. En este caso, variable es la variable que va a ir cambiando, y lista es una lista de python (o un iterable que es parecido)"
   ]
  },
  {
   "cell_type": "markdown",
   "id": "80d0a4ff-7ea7-4bca-bc68-f5860e2641c0",
   "metadata": {
    "editable": true,
    "slideshow": {
     "slide_type": "slide"
    },
    "tags": []
   },
   "source": [
    "<div class=\"alert alert-block alert-info\">\n",
    "Ejercicio 1.10.: Sumar los elementos de una lista\n",
    "</div>\n",
    "Utilizar un ciclo `for` "
   ]
  },
  {
   "cell_type": "code",
   "execution_count": null,
   "id": "f3f20fd6-c579-4926-9db7-6c873da0f61f",
   "metadata": {
    "editable": true,
    "slideshow": {
     "slide_type": ""
    },
    "tags": []
   },
   "outputs": [],
   "source": [
    "alturas = [1.73, 1.68, 1.71, 1.89, 1.73]\n",
    "# creo una variable inicial con valor cero\n",
    "suma = 0\n",
    "# recorro cada uno de los elementos de la lista\n",
    "for x in alturas:\n",
    "    # sumo cada numero en la variable suma\n",
    "    suma += x\n",
    "\n",
    "# al final, la variable suma debe tener el total\n",
    "print(suma) \n"
   ]
  },
  {
   "cell_type": "markdown",
   "id": "a50ad494-d200-4ba4-8dc8-b32812d4a0f8",
   "metadata": {
    "editable": true,
    "slideshow": {
     "slide_type": "slide"
    },
    "tags": []
   },
   "source": [
    "## Utilizando el ciclo for para recorrer un string"
   ]
  },
  {
   "cell_type": "code",
   "execution_count": null,
   "id": "9e01c366-6917-4cc8-ae58-ac927af8b59c",
   "metadata": {
    "editable": true,
    "slideshow": {
     "slide_type": ""
    },
    "tags": []
   },
   "outputs": [],
   "source": [
    "v1 = \"Este es mi string\"\n",
    "print(\"Longitud de v1:\", len(v1))"
   ]
  },
  {
   "cell_type": "code",
   "execution_count": null,
   "id": "4aa69bcd-c3ae-402e-83a8-1970e27915b8",
   "metadata": {
    "editable": true,
    "slideshow": {
     "slide_type": ""
    },
    "tags": []
   },
   "outputs": [],
   "source": [
    "v1[8]"
   ]
  },
  {
   "cell_type": "code",
   "execution_count": null,
   "id": "8f88b6d7-45d1-4592-ab55-1aa7ccbf1ca6",
   "metadata": {
    "editable": true,
    "slideshow": {
     "slide_type": ""
    },
    "tags": []
   },
   "outputs": [],
   "source": [
    "for char in v1:\n",
    "    print(char)"
   ]
  },
  {
   "cell_type": "markdown",
   "id": "18e8b8e9-24ae-44a6-a371-ad55e20b305c",
   "metadata": {
    "editable": true,
    "slideshow": {
     "slide_type": "subslide"
    },
    "tags": []
   },
   "source": [
    "# Funciones"
   ]
  },
  {
   "cell_type": "markdown",
   "id": "d0bd6308-d352-4b6e-9128-be3dedc31d24",
   "metadata": {
    "editable": true,
    "slideshow": {
     "slide_type": ""
    },
    "tags": []
   },
   "source": [
    "Código reutilizable\n",
    "Resuelve una actividad en particular\n",
    "Hay innumerables funciones disponibles en librerias.\n",
    "Ejemplo:"
   ]
  },
  {
   "cell_type": "code",
   "execution_count": null,
   "id": "fdf1359f-d401-4c4a-a4b7-e1d6a51c5fe5",
   "metadata": {
    "editable": true,
    "slideshow": {
     "slide_type": ""
    },
    "tags": []
   },
   "outputs": [],
   "source": [
    "grupo = [1.73, 1.68, 1.71, 1.89, 1.73]\n",
    "\n",
    "max(grupo)"
   ]
  },
  {
   "cell_type": "code",
   "execution_count": null,
   "id": "558a9c76-0487-42c7-a9cc-7dda70d59016",
   "metadata": {
    "editable": true,
    "slideshow": {
     "slide_type": ""
    },
    "tags": []
   },
   "outputs": [],
   "source": [
    "sum(grupo) / len(grupo)"
   ]
  },
  {
   "cell_type": "markdown",
   "id": "fa3d7e2c-7140-4e89-8f17-31feb4d60fec",
   "metadata": {
    "editable": true,
    "slideshow": {
     "slide_type": ""
    },
    "tags": []
   },
   "source": [
    "* `sum()`, `max()`, `len()` son ejemplos de funciones incorporadas al lenguaje."
   ]
  },
  {
   "cell_type": "markdown",
   "id": "6eab08c3-3a5a-420c-8ff2-db587453c609",
   "metadata": {
    "editable": true,
    "slideshow": {
     "slide_type": "slide"
    },
    "tags": []
   },
   "source": [
    "## Otras funciones"
   ]
  },
  {
   "cell_type": "code",
   "execution_count": null,
   "id": "136a51a8-d12a-4e30-bf90-e78a2bb8698d",
   "metadata": {
    "editable": true,
    "slideshow": {
     "slide_type": ""
    },
    "tags": []
   },
   "outputs": [],
   "source": [
    "print( round(3.14159,2) )"
   ]
  },
  {
   "cell_type": "code",
   "execution_count": null,
   "id": "80ec887d-2890-4b29-9e82-2dd043e8a363",
   "metadata": {
    "editable": true,
    "slideshow": {
     "slide_type": ""
    },
    "tags": []
   },
   "outputs": [],
   "source": [
    "print( len(\"Curso de Python\") )"
   ]
  },
  {
   "cell_type": "code",
   "execution_count": null,
   "id": "13aea1e1-f467-4d7f-a469-b41ac5ad21f0",
   "metadata": {
    "editable": true,
    "slideshow": {
     "slide_type": ""
    },
    "tags": []
   },
   "outputs": [],
   "source": [
    "grupo = [1.73, 1.68, 1.71, 1.89, 1.73]\n",
    "grupo.count(1.73)"
   ]
  },
  {
   "cell_type": "markdown",
   "id": "695c172f-4267-453b-9f22-91b4ac2ea919",
   "metadata": {
    "editable": true,
    "slideshow": {
     "slide_type": "slide"
    },
    "tags": []
   },
   "source": [
    "## Función personalizada\n",
    "\n",
    "Es posible construir una función personalizada para evitar la repetición de código."
   ]
  },
  {
   "cell_type": "markdown",
   "id": "9c3625cf-33f7-4497-85a9-d152d70ba36b",
   "metadata": {
    "editable": true,
    "slideshow": {
     "slide_type": ""
    },
    "tags": []
   },
   "source": [
    "Por ejemplo, tomemos el cálculo del Indice de Masa Corporal.\n",
    "\n",
    "$IMC = \\frac{peso}{altura^2} $"
   ]
  },
  {
   "cell_type": "markdown",
   "id": "33875ea1-2d8c-48cf-823d-311244e60ed0",
   "metadata": {
    "editable": true,
    "slideshow": {
     "slide_type": ""
    },
    "tags": []
   },
   "source": [
    "Podemos hacerlo de forma manual, por ejemplo, para una persona de peso 71kg y altura 1.62m:"
   ]
  },
  {
   "cell_type": "code",
   "execution_count": null,
   "id": "26015017-9d1b-4c7e-a5ac-2ca89c279dd9",
   "metadata": {
    "editable": true,
    "slideshow": {
     "slide_type": ""
    },
    "tags": []
   },
   "outputs": [],
   "source": [
    "print (71 / 1.62**2)"
   ]
  },
  {
   "cell_type": "code",
   "execution_count": null,
   "id": "43a16363-7cac-4b32-bb5b-43a4949cdcc7",
   "metadata": {
    "editable": true,
    "slideshow": {
     "slide_type": "slide"
    },
    "tags": []
   },
   "outputs": [],
   "source": [
    "También podemos crear una fórumula personalizada:"
   ]
  },
  {
   "cell_type": "code",
   "execution_count": null,
   "id": "677becb5-4927-4175-82f7-dd050bdac844",
   "metadata": {
    "editable": true,
    "slideshow": {
     "slide_type": ""
    },
    "tags": []
   },
   "outputs": [],
   "source": [
    "def IMC ( peso, altura):\n",
    "    return(peso / altura**2)"
   ]
  },
  {
   "cell_type": "code",
   "execution_count": null,
   "id": "f2fbed39-0c10-4b32-b6f1-92045b3998b2",
   "metadata": {
    "editable": true,
    "slideshow": {
     "slide_type": ""
    },
    "tags": []
   },
   "outputs": [],
   "source": [
    "print(IMC( 71, 1.62) )"
   ]
  },
  {
   "cell_type": "code",
   "execution_count": null,
   "id": "1c8b7729-0c7c-4b8b-9fff-18b1238af3b9",
   "metadata": {
    "editable": true,
    "slideshow": {
     "slide_type": ""
    },
    "tags": []
   },
   "outputs": [],
   "source": [
    "print( IMC(68, 1.65) )"
   ]
  },
  {
   "cell_type": "markdown",
   "id": "dbddfa92-286b-4997-992f-9cbbdb2e199f",
   "metadata": {
    "editable": true,
    "slideshow": {
     "slide_type": "slide"
    },
    "tags": []
   },
   "source": [
    "<div class=\"alert alert-block alert-info\">\n",
    "Ejercicio 1.11.: Crear una funcion para calcular el interés simple:\n",
    "</div>\n",
    "$interes = capital * tasa / 360 * plazo$\n",
    "\n",
    "La funcion debe recibir 3 datos: capital en pesos, tasa en decimal, plazo en días, y regresar un sólo valor correspondiente interés en pesos."
   ]
  },
  {
   "cell_type": "code",
   "execution_count": null,
   "id": "53f23a6f-e479-4364-8aa4-6f416d8f91c9",
   "metadata": {
    "editable": true,
    "slideshow": {
     "slide_type": ""
    },
    "tags": []
   },
   "outputs": [],
   "source": [
    "def interes():\n",
    "    \n",
    "    return \n"
   ]
  },
  {
   "cell_type": "markdown",
   "id": "89a40142-0a1a-41af-be62-fc9370a8a872",
   "metadata": {
    "editable": true,
    "slideshow": {
     "slide_type": ""
    },
    "tags": []
   },
   "source": [
    "Prueba la función con los siguientes datos:\n",
    "\n",
    "* Capital: $1,000, Tasa: 11.50%, Plazo: 91 días\n",
    "\n",
    "* Capital: $5,000, Tasa: 9.50%, Plazo: 182 días"
   ]
  },
  {
   "cell_type": "code",
   "execution_count": null,
   "id": "7cf5c190-fd13-4303-88bb-c615de83a442",
   "metadata": {
    "editable": true,
    "slideshow": {
     "slide_type": ""
    },
    "tags": []
   },
   "outputs": [],
   "source": [
    "print( interes() )"
   ]
  },
  {
   "cell_type": "markdown",
   "id": "04c6d717-80d2-45fc-8c14-e1e5c4bd06fc",
   "metadata": {
    "editable": true,
    "slideshow": {
     "slide_type": "subslide"
    },
    "tags": []
   },
   "source": [
    "# Concepto de Objeto\n",
    "En python cualquier _dato_ (o _valor_) es un objeto:    \n",
    "- Números, listas, funciones, clases...\n",
    "\n",
    "Los objetos tienen atributos (miembros):\n",
    "- **Datos**: Información útil para el objeto\n",
    "- **Métodos** (funciones): Operaciones sobre el propio objeto\n",
    "\n",
    "![objeto](images/t2_objeto.png)\n",
    "\n",
    "Los atributos son accesibles con la notación `objeto.atributo`"
   ]
  },
  {
   "cell_type": "markdown",
   "id": "3fbe7415-ff7e-4121-8adc-acae32618523",
   "metadata": {
    "editable": true,
    "slideshow": {
     "slide_type": "subslide"
    },
    "tags": []
   },
   "source": [
    "Podemos inspeccionar los atributos de un objeto con los comandos `dir`, `help`"
   ]
  },
  {
   "cell_type": "code",
   "execution_count": null,
   "id": "19eca37a-5d84-4238-8d1f-038d8ee60d4b",
   "metadata": {},
   "outputs": [],
   "source": [
    "a = \"Hola Mundo\"\n",
    "dir(a)"
   ]
  },
  {
   "cell_type": "code",
   "execution_count": null,
   "id": "5ae5e2ff-8745-430c-94bc-8fb5f4e80eb8",
   "metadata": {},
   "outputs": [],
   "source": [
    "help(a.split)"
   ]
  },
  {
   "cell_type": "code",
   "execution_count": null,
   "id": "929377bd-5345-4b0d-a07a-e4ea5b67fef4",
   "metadata": {
    "editable": true,
    "slideshow": {
     "slide_type": ""
    },
    "tags": []
   },
   "outputs": [],
   "source": [
    "# por ejemplo, si queremos separar la siguiente serie de tasas de un archivo separado por comas, en una lista\n",
    "tasas = \"11.30,11.28,11.34,11.25\"\n",
    "tasas.split(sep=\",\")"
   ]
  },
  {
   "cell_type": "markdown",
   "id": "998797a0-8df7-4564-9290-cad0b5197433",
   "metadata": {
    "editable": true,
    "slideshow": {
     "slide_type": ""
    },
    "tags": []
   },
   "source": [
    "<div class=\"alert alert-block alert-info\">\n",
    "Ejercicio 1.12.: Crear una función para calcular el precio (valuación) de un CETE:\n",
    "</div>\n",
    "\n",
    "<img src=\"images/formulacete.png\" width=80%>\n",
    "\n",
    "La funcion debe recibir 3 datos: \n",
    "\n",
    "* Valor Nominal en pesos (CETE = $10 pesos)\n",
    "\n",
    "* tasa de rendimiento en decimales\n",
    "\n",
    "* plazo en días\n",
    "\n",
    "y regresar un sólo valor correspondiente al precio redondeado a 7 decimales.\n",
    "\n",
    "Para agregar una celda nueva de código, dar click en la herramienta \"INSERT A CELL BELOW\""
   ]
  },
  {
   "cell_type": "markdown",
   "id": "18565713-c134-4e92-8261-714d06da37ce",
   "metadata": {
    "editable": true,
    "slideshow": {
     "slide_type": ""
    },
    "tags": []
   },
   "source": [
    "Probar la fórmula con el siguiente ejemplo:\n",
    "\n",
    "<img src=\"images/ejemplocete.png\" width=\"80%\">"
   ]
  }
 ],
 "metadata": {
  "kernelspec": {
   "display_name": "Python 3 (ipykernel)",
   "language": "python",
   "name": "python3"
  },
  "language_info": {
   "codemirror_mode": {
    "name": "ipython",
    "version": 3
   },
   "file_extension": ".py",
   "mimetype": "text/x-python",
   "name": "python",
   "nbconvert_exporter": "python",
   "pygments_lexer": "ipython3",
   "version": "3.11.7"
  }
 },
 "nbformat": 4,
 "nbformat_minor": 5
}
