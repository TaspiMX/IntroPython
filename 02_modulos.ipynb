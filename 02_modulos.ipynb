{
 "cells": [
  {
   "cell_type": "markdown",
   "id": "ced2547b-6e6c-4a6c-9b2f-fef77d81d910",
   "metadata": {},
   "source": [
    "# Módulos\n",
    "\n",
    "## Objetivos\n",
    "\n",
    "- Aprender a definir funciones y utilizarlas\n",
    "  - Entender las diferentes maneras de pasar argumentos a una función \n",
    "- Conocer el uso de módulos y paquetes\n",
    "    - pandas:  manejo de tablas de datos\n",
    "    - matplotlib: graficar"
   ]
  },
  {
   "cell_type": "markdown",
   "id": "97796a50-5e65-45d8-bcc5-c233e0e8daef",
   "metadata": {},
   "source": [
    "# matplotlib\n",
    "La librería matplotlib permite realizar gráficas a partir de tablas de datos\n",
    "\n",
    "* Se intala con el siguiente comando\n",
    "\n",
    "`pip install matplotlib`\n",
    "\n",
    "* (En el ambiente ya está instalada)"
   ]
  },
  {
   "cell_type": "markdown",
   "id": "79dccbc8-8578-41f8-ab79-c1c5fda770fa",
   "metadata": {},
   "source": [
    "# pandas\n",
    "\n",
    "Maneja tablas de datos\n",
    "\n",
    "`pip install pandas`\n",
    "\n",
    "(en el ambiente ya está instalado)"
   ]
  },
  {
   "cell_type": "code",
   "execution_count": 64,
   "id": "982905c8-f629-4fd5-adac-cc96c0c1b13b",
   "metadata": {},
   "outputs": [],
   "source": [
    "import pandas as pd"
   ]
  },
  {
   "cell_type": "code",
   "execution_count": 65,
   "id": "a724bfe8-f926-413f-a264-073538521618",
   "metadata": {},
   "outputs": [],
   "source": [
    "# importar un archivo csv\n",
    "\n",
    "temperaturas = pd.read_csv(\"data/temperaturas.csv\")"
   ]
  },
  {
   "cell_type": "code",
   "execution_count": 66,
   "id": "26509157-9f53-40e1-8c7f-b1d260d7cfaa",
   "metadata": {},
   "outputs": [
    {
     "name": "stdout",
     "output_type": "stream",
     "text": [
      "  estacion  tempaire  maxima  minima\n",
      "0    AGSAG     19.25    28.0    10.5\n",
      "1    ANVAG     17.40    27.3     7.5\n",
      "2    CDRAG     20.00    30.0    10.0\n",
      "3    CNSAG     17.50    28.0     7.0\n",
      "4    AGSAG      9.50    19.0     0.0\n"
     ]
    }
   ],
   "source": [
    "# primero explorar lo que importamos\n",
    "\n",
    "print(temperaturas.head())"
   ]
  },
  {
   "cell_type": "code",
   "execution_count": 67,
   "id": "af375332-140b-4493-a815-56b4162d5f6b",
   "metadata": {},
   "outputs": [
    {
     "name": "stdout",
     "output_type": "stream",
     "text": [
      "   estacion  tempaire  maxima  minima\n",
      "0     AGSAG     19.25    28.0    10.5\n",
      "1     ANVAG     17.40    27.3     7.5\n",
      "2     CDRAG     20.00    30.0    10.0\n",
      "3     CNSAG     17.50    28.0     7.0\n",
      "4     AGSAG      9.50    19.0     0.0\n",
      "..      ...       ...     ...     ...\n",
      "95    PLNBS     24.30    34.0    14.6\n",
      "96    RBRBS     20.55    25.7    15.4\n",
      "97    SANBS     29.90    36.8    23.0\n",
      "98    SARBS     30.25    37.0    23.5\n",
      "99    SBABS     29.00    36.0    22.0\n",
      "\n",
      "[100 rows x 4 columns]\n"
     ]
    }
   ],
   "source": [
    "print(temperaturas)"
   ]
  },
  {
   "cell_type": "code",
   "execution_count": 68,
   "id": "28ad4ef2-bac0-4d85-bdba-b70b8b396062",
   "metadata": {},
   "outputs": [
    {
     "name": "stdout",
     "output_type": "stream",
     "text": [
      "<class 'pandas.core.frame.DataFrame'>\n",
      "RangeIndex: 100 entries, 0 to 99\n",
      "Data columns (total 4 columns):\n",
      " #   Column    Non-Null Count  Dtype  \n",
      "---  ------    --------------  -----  \n",
      " 0   estacion  100 non-null    object \n",
      " 1   tempaire  100 non-null    float64\n",
      " 2   maxima    100 non-null    float64\n",
      " 3   minima    100 non-null    float64\n",
      "dtypes: float64(3), object(1)\n",
      "memory usage: 3.3+ KB\n",
      "None\n"
     ]
    }
   ],
   "source": [
    "print(temperaturas.info() )"
   ]
  },
  {
   "cell_type": "code",
   "execution_count": 69,
   "id": "1a8f02c4-9e80-4753-8c57-38f25b9bec81",
   "metadata": {},
   "outputs": [
    {
     "name": "stdout",
     "output_type": "stream",
     "text": [
      "(100, 4)\n"
     ]
    }
   ],
   "source": [
    "print( temperaturas.shape )"
   ]
  },
  {
   "cell_type": "code",
   "execution_count": 70,
   "id": "376f44c0-3f90-42a7-b72b-15af67a792d5",
   "metadata": {},
   "outputs": [
    {
     "name": "stdout",
     "output_type": "stream",
     "text": [
      "         tempaire      maxima      minima\n",
      "count  100.000000  100.000000  100.000000\n",
      "mean    23.317250   31.702500   14.940000\n",
      "std      4.828083    5.055402    5.725753\n",
      "min      9.500000   17.000000    0.000000\n",
      "25%     19.500000   28.875000   10.475000\n",
      "50%     23.875000   32.250000   14.700000\n",
      "75%     27.500000   35.625000   20.000000\n",
      "max     32.700000   41.800000   27.100000\n"
     ]
    }
   ],
   "source": [
    "print( temperaturas.describe() )"
   ]
  },
  {
   "cell_type": "code",
   "execution_count": 71,
   "id": "d15a723b-e5ae-4d7d-bc1e-60541d6799ee",
   "metadata": {},
   "outputs": [
    {
     "name": "stdout",
     "output_type": "stream",
     "text": [
      "[['AGSAG' 19.25 28.0 10.5]\n",
      " ['ANVAG' 17.4 27.3 7.5]\n",
      " ['CDRAG' 20.0 30.0 10.0]\n",
      " ['CNSAG' 17.5 28.0 7.0]\n",
      " ['AGSAG' 9.5 19.0 0.0]\n",
      " ['ANVAG' 20.5 31.0 10.0]\n",
      " ['CDRAG' 20.0 30.0 10.0]\n",
      " ['CNSAG' 20.1 30.0 10.2]\n",
      " ['AGSAG' 18.25 28.0 8.5]\n",
      " ['ANVAG' 17.25 26.0 8.5]\n",
      " ['CDRAG' 17.5 27.5 7.5]\n",
      " ['CNSAG' 14.4 26.4 2.5]\n",
      " ['AGSAG' 18.0 25.0 11.0]\n",
      " ['ANVAG' 18.0 25.0 11.0]\n",
      " ['CDRAG' 18.5 26.0 11.0]\n",
      " ['CNSAG' 16.0 19.5 12.5]\n",
      " ['AGSAG' 17.5 22.0 13.0]\n",
      " ['ANVAG' 25.3 36.8 13.9]\n",
      " ['CDRAG' 13.0 21.0 5.0]\n",
      " ['CNSAG' 30.4 41.3 19.6]\n",
      " ['AGSAG' 22.0 29.0 15.0]\n",
      " ['ANVAG' 17.5 27.0 8.0]\n",
      " ['CDRAG' 25.6 32.8 18.4]\n",
      " ['CNSAG' 21.7 31.6 11.8]\n",
      " ['AGSAG' 19.0 25.0 13.0]\n",
      " ['ANVAG' 17.25 27.5 7.0]\n",
      " ['CDRAG' 13.5 17.0 10.0]\n",
      " ['CNSAG' 26.0 34.0 18.0]\n",
      " ['AGSAG' 26.55 36.5 16.6]\n",
      " ['ANVAG' 26.5 35.2 17.8]\n",
      " ['CDRAG' 23.5 33.0 14.0]\n",
      " ['CNSAG' 23.5 35.0 12.0]\n",
      " ['AGSAG' 22.75 32.5 13.0]\n",
      " ['ANVAG' 27.0 38.0 16.0]\n",
      " ['CDRAG' 23.75 33.5 14.0]\n",
      " ['CNSAG' 21.5 29.0 14.0]\n",
      " ['AGSAG' 20.25 28.5 12.0]\n",
      " ['ANVAG' 23.5 37.0 10.0]\n",
      " ['CDRAG' 21.0 26.0 16.0]\n",
      " ['CNSAG' 19.5 27.0 12.0]\n",
      " ['AGSAG' 27.5 34.0 21.0]\n",
      " ['ANVAG' 26.5 32.0 21.0]\n",
      " ['CDRAG' 27.5 30.0 25.0]\n",
      " ['CNSAG' 27.5 32.0 23.0]\n",
      " ['AGSAG' 27.5 33.0 22.0]\n",
      " ['ANVAG' 29.5 38.0 21.0]\n",
      " ['CDRAG' 25.7 31.8 19.6]\n",
      " ['CNSAG' 27.5 33.0 22.0]\n",
      " ['AGSAG' 28.5 35.0 22.0]\n",
      " ['ANVAG' 26.0 31.0 21.0]\n",
      " ['CDRAG' 29.0 38.0 20.0]\n",
      " ['CNSAG' 29.5 36.0 23.0]\n",
      " ['AGSAG' 26.0 29.0 23.0]\n",
      " ['ANVAG' 27.0 37.0 17.0]\n",
      " ['CDRAG' 28.0 36.0 20.0]\n",
      " ['CNSAG' 12.0 22.0 2.0]\n",
      " ['AGSAG' 18.75 30.2 7.3]\n",
      " ['ANVAG' 20.5 29.0 12.0]\n",
      " ['CDRAG' 22.5 29.0 16.0]\n",
      " ['CNSAG' 19.25 29.0 9.5]\n",
      " ['AGSAG' 26.15 39.7 12.6]\n",
      " ['ANVAG' 21.5 30.0 13.0]\n",
      " ['CDRAG' 28.15 41.7 14.6]\n",
      " ['CNSAG' 23.5 34.0 13.0]\n",
      " ['AGSAG' 22.0 30.0 14.0]\n",
      " ['ANVAG' 19.5 29.0 10.0]\n",
      " ['CDRAG' 25.5 34.0 17.0]\n",
      " ['CNSAG' 23.475 34.45 12.5]\n",
      " ['AGSAG' 17.45 26.4 8.5]\n",
      " ['ANVAG' 23.4 32.0 14.8]\n",
      " ['CDRAG' 26.1 41.8 10.4]\n",
      " ['CNSAG' 14.9 27.0 2.8]\n",
      " ['AGSAG' 20.0 31.0 9.0]\n",
      " ['ANVAG' 28.7 41.0 16.5]\n",
      " ['CDRAG' 19.0 30.0 8.0]\n",
      " ['CNSAG' 21.25 29.0 13.5]\n",
      " ['AGSAG' 26.0 34.0 18.0]\n",
      " ['ANVAG' 26.5 34.5 18.5]\n",
      " ['CDRAG' 25.7 33.0 18.5]\n",
      " ['CNSAG' 26.5 33.0 20.0]\n",
      " ['AGSAG' 24.7 33.0 16.5]\n",
      " ['CNSAG' 25.0 34.0 16.0]\n",
      " ['AGSAG' 28.2 36.0 20.5]\n",
      " ['CNSAG' 27.0 32.5 21.5]\n",
      " ['AGSAG' 27.7 36.5 19.0]\n",
      " ['MLGBS' 24.0 30.0 18.0]\n",
      " ['PLNBS' 28.5 35.5 21.5]\n",
      " ['LRTBS' 28.0 38.0 18.0]\n",
      " ['MLGBS' 28.75 36.5 21.0]\n",
      " ['PLNBS' 28.5 36.0 21.0]\n",
      " ['LRTBS' 32.7 38.3 27.1]\n",
      " ['MLGBS' 27.5 34.5 20.5]\n",
      " ['PLNBS' 30.25 37.0 23.5]\n",
      " ['LRTBS' 27.5 36.0 19.0]\n",
      " ['MLGBS' 27.75 33.5 22.0]\n",
      " ['PLNBS' 24.3 34.0 14.6]\n",
      " ['RBRBS' 20.55 25.7 15.4]\n",
      " ['SANBS' 29.9 36.8 23.0]\n",
      " ['SARBS' 30.25 37.0 23.5]\n",
      " ['SBABS' 29.0 36.0 22.0]]\n"
     ]
    }
   ],
   "source": [
    "# values transforma la información a un formato de matriz\n",
    "print( temperaturas.values )"
   ]
  },
  {
   "cell_type": "code",
   "execution_count": 72,
   "id": "a0d30f41-20a1-48ef-b3f3-1763ef1ff899",
   "metadata": {},
   "outputs": [
    {
     "name": "stdout",
     "output_type": "stream",
     "text": [
      "Index(['estacion', 'tempaire', 'maxima', 'minima'], dtype='object')\n"
     ]
    }
   ],
   "source": [
    "print( temperaturas.columns )"
   ]
  },
  {
   "cell_type": "code",
   "execution_count": 73,
   "id": "6bafd01a-4cfd-4975-801d-89c994757e3b",
   "metadata": {},
   "outputs": [
    {
     "name": "stdout",
     "output_type": "stream",
     "text": [
      "RangeIndex(start=0, stop=100, step=1)\n"
     ]
    }
   ],
   "source": [
    "print( temperaturas.index ) "
   ]
  },
  {
   "cell_type": "markdown",
   "id": "9bb148d6-830f-4392-9c88-037d33d26f92",
   "metadata": {},
   "source": [
    "# Manipulación"
   ]
  },
  {
   "cell_type": "markdown",
   "id": "7aa35b0e-0440-4936-b455-bd05b84bee63",
   "metadata": {},
   "source": [
    "## Ordenar"
   ]
  },
  {
   "cell_type": "code",
   "execution_count": 74,
   "id": "2969c0fd-f6a0-4eff-a2b9-8470d93398b0",
   "metadata": {},
   "outputs": [
    {
     "name": "stdout",
     "output_type": "stream",
     "text": [
      "   estacion  tempaire  maxima  minima\n",
      "4     AGSAG      9.50    19.0     0.0\n",
      "55    CNSAG     12.00    22.0     2.0\n",
      "18    CDRAG     13.00    21.0     5.0\n",
      "26    CDRAG     13.50    17.0    10.0\n",
      "11    CNSAG     14.40    26.4     2.5\n",
      "..      ...       ...     ...     ...\n",
      "97    SANBS     29.90    36.8    23.0\n",
      "98    SARBS     30.25    37.0    23.5\n",
      "92    PLNBS     30.25    37.0    23.5\n",
      "19    CNSAG     30.40    41.3    19.6\n",
      "90    LRTBS     32.70    38.3    27.1\n",
      "\n",
      "[100 rows x 4 columns]\n"
     ]
    }
   ],
   "source": [
    "print( temperaturas.sort_values(\"tempaire\") )"
   ]
  },
  {
   "cell_type": "code",
   "execution_count": 75,
   "id": "d94d0497-fa8c-4af3-92a2-adef9210c007",
   "metadata": {},
   "outputs": [
    {
     "name": "stdout",
     "output_type": "stream",
     "text": [
      "   estacion  tempaire  maxima  minima\n",
      "90    LRTBS     32.70    38.3    27.1\n",
      "19    CNSAG     30.40    41.3    19.6\n",
      "98    SARBS     30.25    37.0    23.5\n",
      "92    PLNBS     30.25    37.0    23.5\n",
      "97    SANBS     29.90    36.8    23.0\n",
      "..      ...       ...     ...     ...\n",
      "11    CNSAG     14.40    26.4     2.5\n",
      "26    CDRAG     13.50    17.0    10.0\n",
      "18    CDRAG     13.00    21.0     5.0\n",
      "55    CNSAG     12.00    22.0     2.0\n",
      "4     AGSAG      9.50    19.0     0.0\n",
      "\n",
      "[100 rows x 4 columns]\n"
     ]
    }
   ],
   "source": [
    "# de mayor a menor\n",
    "print( temperaturas.sort_values(\"tempaire\", ascending=False) )"
   ]
  },
  {
   "cell_type": "markdown",
   "id": "0b0db547-3841-4eee-a766-f3da3b4012a1",
   "metadata": {},
   "source": [
    "# Filtrar datos"
   ]
  },
  {
   "cell_type": "markdown",
   "id": "75f138da-7693-4c99-8a37-32cf14bab88f",
   "metadata": {},
   "source": [
    "# solo la columna de temperatura promedio"
   ]
  },
  {
   "cell_type": "code",
   "execution_count": 76,
   "id": "ac07d88b-9141-45c0-81e2-cb509773ecc9",
   "metadata": {},
   "outputs": [
    {
     "name": "stdout",
     "output_type": "stream",
     "text": [
      "0     19.25\n",
      "1     17.40\n",
      "2     20.00\n",
      "3     17.50\n",
      "4      9.50\n",
      "      ...  \n",
      "95    24.30\n",
      "96    20.55\n",
      "97    29.90\n",
      "98    30.25\n",
      "99    29.00\n",
      "Name: tempaire, Length: 100, dtype: float64\n"
     ]
    }
   ],
   "source": [
    "print( temperaturas[\"tempaire\"] )"
   ]
  },
  {
   "cell_type": "markdown",
   "id": "6ba57cfe-1f2f-4cab-b387-13b9a93e3e18",
   "metadata": {},
   "source": [
    "# solo columnas máxima y mínima"
   ]
  },
  {
   "cell_type": "code",
   "execution_count": 77,
   "id": "5f309e6f-ce5f-4f41-b175-ccc35edaaf6c",
   "metadata": {},
   "outputs": [
    {
     "name": "stdout",
     "output_type": "stream",
     "text": [
      "    maxima  minima\n",
      "0     28.0    10.5\n",
      "1     27.3     7.5\n",
      "2     30.0    10.0\n",
      "3     28.0     7.0\n",
      "4     19.0     0.0\n",
      "..     ...     ...\n",
      "95    34.0    14.6\n",
      "96    25.7    15.4\n",
      "97    36.8    23.0\n",
      "98    37.0    23.5\n",
      "99    36.0    22.0\n",
      "\n",
      "[100 rows x 2 columns]\n"
     ]
    }
   ],
   "source": [
    "print( temperaturas[ [\"maxima\", \"minima\" ] ] )"
   ]
  },
  {
   "cell_type": "markdown",
   "id": "6cebca6f-b48a-429f-8fcd-18908b04cced",
   "metadata": {},
   "source": [
    "### filtrar utilizando condiciones"
   ]
  },
  {
   "cell_type": "code",
   "execution_count": 78,
   "id": "93987f60-5bbd-4fc3-a4ef-51419ff8b4d0",
   "metadata": {},
   "outputs": [
    {
     "name": "stdout",
     "output_type": "stream",
     "text": [
      "   estacion  tempaire  maxima  minima\n",
      "5     ANVAG    20.500   31.00    10.0\n",
      "17    ANVAG    25.300   36.80    13.9\n",
      "19    CNSAG    30.400   41.30    19.6\n",
      "22    CDRAG    25.600   32.80    18.4\n",
      "23    CNSAG    21.700   31.60    11.8\n",
      "27    CNSAG    26.000   34.00    18.0\n",
      "28    AGSAG    26.550   36.50    16.6\n",
      "29    ANVAG    26.500   35.20    17.8\n",
      "30    CDRAG    23.500   33.00    14.0\n",
      "31    CNSAG    23.500   35.00    12.0\n",
      "32    AGSAG    22.750   32.50    13.0\n",
      "33    ANVAG    27.000   38.00    16.0\n",
      "34    CDRAG    23.750   33.50    14.0\n",
      "37    ANVAG    23.500   37.00    10.0\n",
      "40    AGSAG    27.500   34.00    21.0\n",
      "41    ANVAG    26.500   32.00    21.0\n",
      "43    CNSAG    27.500   32.00    23.0\n",
      "44    AGSAG    27.500   33.00    22.0\n",
      "45    ANVAG    29.500   38.00    21.0\n",
      "46    CDRAG    25.700   31.80    19.6\n",
      "47    CNSAG    27.500   33.00    22.0\n",
      "48    AGSAG    28.500   35.00    22.0\n",
      "49    ANVAG    26.000   31.00    21.0\n",
      "50    CDRAG    29.000   38.00    20.0\n",
      "51    CNSAG    29.500   36.00    23.0\n",
      "53    ANVAG    27.000   37.00    17.0\n",
      "54    CDRAG    28.000   36.00    20.0\n",
      "56    AGSAG    18.750   30.20     7.3\n",
      "60    AGSAG    26.150   39.70    12.6\n",
      "62    CDRAG    28.150   41.70    14.6\n",
      "63    CNSAG    23.500   34.00    13.0\n",
      "66    CDRAG    25.500   34.00    17.0\n",
      "67    CNSAG    23.475   34.45    12.5\n",
      "69    ANVAG    23.400   32.00    14.8\n",
      "70    CDRAG    26.100   41.80    10.4\n",
      "72    AGSAG    20.000   31.00     9.0\n",
      "73    ANVAG    28.700   41.00    16.5\n",
      "76    AGSAG    26.000   34.00    18.0\n",
      "77    ANVAG    26.500   34.50    18.5\n",
      "78    CDRAG    25.700   33.00    18.5\n",
      "79    CNSAG    26.500   33.00    20.0\n",
      "80    AGSAG    24.700   33.00    16.5\n",
      "81    CNSAG    25.000   34.00    16.0\n",
      "82    AGSAG    28.200   36.00    20.5\n",
      "83    CNSAG    27.000   32.50    21.5\n",
      "84    AGSAG    27.700   36.50    19.0\n",
      "86    PLNBS    28.500   35.50    21.5\n",
      "87    LRTBS    28.000   38.00    18.0\n",
      "88    MLGBS    28.750   36.50    21.0\n",
      "89    PLNBS    28.500   36.00    21.0\n",
      "90    LRTBS    32.700   38.30    27.1\n",
      "91    MLGBS    27.500   34.50    20.5\n",
      "92    PLNBS    30.250   37.00    23.5\n",
      "93    LRTBS    27.500   36.00    19.0\n",
      "94    MLGBS    27.750   33.50    22.0\n",
      "95    PLNBS    24.300   34.00    14.6\n",
      "97    SANBS    29.900   36.80    23.0\n",
      "98    SARBS    30.250   37.00    23.5\n",
      "99    SBABS    29.000   36.00    22.0\n"
     ]
    }
   ],
   "source": [
    "# guardar las temperaturas \"calientes\"\n",
    "calientes = temperaturas[  temperaturas[\"maxima\"] > 30   ]\n",
    "print(calientes)"
   ]
  },
  {
   "cell_type": "code",
   "execution_count": 79,
   "id": "5965f5d9-6e24-4ab5-98af-b96a59d14573",
   "metadata": {},
   "outputs": [
    {
     "data": {
      "text/plain": [
       "estacion    59\n",
       "tempaire    59\n",
       "maxima      59\n",
       "minima      59\n",
       "dtype: int64"
      ]
     },
     "execution_count": 79,
     "metadata": {},
     "output_type": "execute_result"
    }
   ],
   "source": [
    "calientes.count()"
   ]
  },
  {
   "cell_type": "markdown",
   "id": "744ec2a8-2f48-4479-acac-511869d5b958",
   "metadata": {},
   "source": [
    "# agregando columnas calculadas"
   ]
  },
  {
   "cell_type": "markdown",
   "id": "2c8ae82c-a909-4936-b46e-5b7dc763eb2b",
   "metadata": {},
   "source": [
    "# cambiar agregar una columna de temperatura promedio pero en Farenheit\n",
    "# formula: (°C × 9/5) + 32 = °F"
   ]
  },
  {
   "cell_type": "code",
   "execution_count": 80,
   "id": "01077bf8-0d2d-4aae-9d1a-0b6c0d5fd754",
   "metadata": {},
   "outputs": [],
   "source": [
    "temperaturas[\"tempaire_f\"] = ( temperaturas[\"tempaire\"] * 9/5 ) +32"
   ]
  },
  {
   "cell_type": "code",
   "execution_count": 81,
   "id": "04fe48bf-7b4c-4527-81db-70774faeb71e",
   "metadata": {},
   "outputs": [
    {
     "name": "stdout",
     "output_type": "stream",
     "text": [
      "  estacion  tempaire  maxima  minima  tempaire_f\n",
      "0    AGSAG     19.25    28.0    10.5       66.65\n",
      "1    ANVAG     17.40    27.3     7.5       63.32\n",
      "2    CDRAG     20.00    30.0    10.0       68.00\n",
      "3    CNSAG     17.50    28.0     7.0       63.50\n",
      "4    AGSAG      9.50    19.0     0.0       49.10\n"
     ]
    }
   ],
   "source": [
    "print(temperaturas.head())"
   ]
  },
  {
   "cell_type": "code",
   "execution_count": 82,
   "id": "fbd6002d-d96b-4c99-bbfb-9a1e83035635",
   "metadata": {},
   "outputs": [
    {
     "name": "stdout",
     "output_type": "stream",
     "text": [
      "    tempaire  tempaire_f\n",
      "0      19.25       66.65\n",
      "1      17.40       63.32\n",
      "2      20.00       68.00\n",
      "3      17.50       63.50\n",
      "4       9.50       49.10\n",
      "..       ...         ...\n",
      "95     24.30       75.74\n",
      "96     20.55       68.99\n",
      "97     29.90       85.82\n",
      "98     30.25       86.45\n",
      "99     29.00       84.20\n",
      "\n",
      "[100 rows x 2 columns]\n"
     ]
    }
   ],
   "source": [
    "print( temperaturas[ [\"tempaire\",\"tempaire_f\"] ] )"
   ]
  },
  {
   "cell_type": "markdown",
   "id": "d4fef1ab-74f1-4e1d-89c2-9f335c0da7ec",
   "metadata": {},
   "source": [
    "## Análisis estadístico\n",
    "\n",
    "* .median()\n",
    "\n",
    "* .mode()\n",
    "\n",
    "* .min() \n",
    "\n",
    "* .max()\n",
    "\n",
    "* .var()\n",
    "\n",
    "* .std()\n",
    "\n",
    "* .sum()\n",
    "\n",
    "* .quantile()"
   ]
  },
  {
   "cell_type": "code",
   "execution_count": 83,
   "id": "e12722dc-0b3a-4ef5-a0ac-5dd0e04741bb",
   "metadata": {},
   "outputs": [
    {
     "name": "stdout",
     "output_type": "stream",
     "text": [
      "0     AGSAG\n",
      "1     ANVAG\n",
      "2     CDRAG\n",
      "3     CNSAG\n",
      "4     AGSAG\n",
      "      ...  \n",
      "95    PLNBS\n",
      "96    RBRBS\n",
      "97    SANBS\n",
      "98    SARBS\n",
      "99    SBABS\n",
      "Name: estacion, Length: 100, dtype: object\n"
     ]
    }
   ],
   "source": [
    "print(temperaturas[\"estacion\"] )"
   ]
  },
  {
   "cell_type": "code",
   "execution_count": 86,
   "id": "3994b673-487e-4e74-a2b1-bd2abb1ba91f",
   "metadata": {},
   "outputs": [
    {
     "name": "stdout",
     "output_type": "stream",
     "text": [
      "estacion\n",
      "AGSAG    23\n",
      "CNSAG    22\n",
      "ANVAG    20\n",
      "CDRAG    20\n",
      "MLGBS     4\n",
      "PLNBS     4\n",
      "LRTBS     3\n",
      "RBRBS     1\n",
      "SANBS     1\n",
      "SARBS     1\n",
      "SBABS     1\n",
      "Name: count, dtype: int64\n"
     ]
    }
   ],
   "source": [
    "print(temperaturas[\"estacion\"].value_counts() )"
   ]
  },
  {
   "cell_type": "code",
   "execution_count": 88,
   "id": "26ad45f5-ae6a-4a21-9dc8-44f6b0182ff7",
   "metadata": {},
   "outputs": [
    {
     "name": "stdout",
     "output_type": "stream",
     "text": [
      "estacion\n",
      "AGSAG    23.0\n",
      "CNSAG    22.0\n",
      "ANVAG    20.0\n",
      "CDRAG    20.0\n",
      "MLGBS     4.0\n",
      "PLNBS     4.0\n",
      "LRTBS     3.0\n",
      "RBRBS     1.0\n",
      "SANBS     1.0\n",
      "SARBS     1.0\n",
      "SBABS     1.0\n",
      "Name: proportion, dtype: float64\n"
     ]
    }
   ],
   "source": [
    "# en porcentaje\n",
    "print(temperaturas[\"estacion\"].value_counts(normalize = True) )"
   ]
  },
  {
   "cell_type": "code",
   "execution_count": 89,
   "id": "c1b1348c-f8bd-4ee6-99c2-c5818233ad21",
   "metadata": {},
   "outputs": [
    {
     "name": "stdout",
     "output_type": "stream",
     "text": [
      "estacion\n",
      "AGSAG    23.0\n",
      "CNSAG    22.0\n",
      "ANVAG    20.0\n",
      "CDRAG    20.0\n",
      "MLGBS     4.0\n",
      "PLNBS     4.0\n",
      "LRTBS     3.0\n",
      "RBRBS     1.0\n",
      "SANBS     1.0\n",
      "SARBS     1.0\n",
      "SBABS     1.0\n",
      "Name: proportion, dtype: float64\n"
     ]
    }
   ],
   "source": [
    "print(temperaturas[\"estacion\"].value_counts(normalize = True)*100 )"
   ]
  },
  {
   "cell_type": "code",
   "execution_count": 90,
   "id": "0d440ee5-a819-464c-9f3f-437952cc1d48",
   "metadata": {},
   "outputs": [
    {
     "name": "stdout",
     "output_type": "stream",
     "text": [
      "   estacion  tempaire  maxima  minima  tempaire_f\n",
      "0     AGSAG     19.25    28.0    10.5       66.65\n",
      "4     AGSAG      9.50    19.0     0.0       49.10\n",
      "8     AGSAG     18.25    28.0     8.5       64.85\n",
      "12    AGSAG     18.00    25.0    11.0       64.40\n",
      "16    AGSAG     17.50    22.0    13.0       63.50\n",
      "20    AGSAG     22.00    29.0    15.0       71.60\n",
      "24    AGSAG     19.00    25.0    13.0       66.20\n",
      "28    AGSAG     26.55    36.5    16.6       79.79\n",
      "32    AGSAG     22.75    32.5    13.0       72.95\n",
      "36    AGSAG     20.25    28.5    12.0       68.45\n",
      "40    AGSAG     27.50    34.0    21.0       81.50\n",
      "44    AGSAG     27.50    33.0    22.0       81.50\n",
      "48    AGSAG     28.50    35.0    22.0       83.30\n",
      "52    AGSAG     26.00    29.0    23.0       78.80\n",
      "56    AGSAG     18.75    30.2     7.3       65.75\n",
      "60    AGSAG     26.15    39.7    12.6       79.07\n",
      "64    AGSAG     22.00    30.0    14.0       71.60\n",
      "68    AGSAG     17.45    26.4     8.5       63.41\n",
      "72    AGSAG     20.00    31.0     9.0       68.00\n",
      "76    AGSAG     26.00    34.0    18.0       78.80\n",
      "80    AGSAG     24.70    33.0    16.5       76.46\n",
      "82    AGSAG     28.20    36.0    20.5       82.76\n",
      "84    AGSAG     27.70    36.5    19.0       81.86\n"
     ]
    }
   ],
   "source": [
    "# agrupar y sacar promeio\n",
    "print( temperaturas[ temperaturas[\"estacion\"] == \"AGSAG\" ] )"
   ]
  },
  {
   "cell_type": "code",
   "execution_count": 91,
   "id": "74ee3f56-88c1-4684-b5ff-72afb41770a0",
   "metadata": {},
   "outputs": [
    {
     "name": "stdout",
     "output_type": "stream",
     "text": [
      "0     19.25\n",
      "4      9.50\n",
      "8     18.25\n",
      "12    18.00\n",
      "16    17.50\n",
      "20    22.00\n",
      "24    19.00\n",
      "28    26.55\n",
      "32    22.75\n",
      "36    20.25\n",
      "40    27.50\n",
      "44    27.50\n",
      "48    28.50\n",
      "52    26.00\n",
      "56    18.75\n",
      "60    26.15\n",
      "64    22.00\n",
      "68    17.45\n",
      "72    20.00\n",
      "76    26.00\n",
      "80    24.70\n",
      "82    28.20\n",
      "84    27.70\n",
      "Name: tempaire, dtype: float64\n"
     ]
    }
   ],
   "source": [
    "print( temperaturas[ temperaturas[\"estacion\"] == \"AGSAG\" ][\"tempaire\"])"
   ]
  },
  {
   "cell_type": "code",
   "execution_count": 95,
   "id": "785eadf0-f719-47a1-b64d-e4e2fca2b367",
   "metadata": {},
   "outputs": [
    {
     "name": "stdout",
     "output_type": "stream",
     "text": [
      "22.32608695652174\n"
     ]
    }
   ],
   "source": [
    "print( temperaturas[ temperaturas[\"estacion\"] == \"AGSAG\" ][\"tempaire\"].mean() )"
   ]
  },
  {
   "cell_type": "code",
   "execution_count": null,
   "id": "03410613-e94c-4c8f-8be2-9b6143d82ace",
   "metadata": {},
   "outputs": [],
   "source": [
    "print( temperaturas[ temperaturas[\"estacion\"] == \"AGSAG\" ][\"tempaire\"].mean().round(2))"
   ]
  },
  {
   "cell_type": "markdown",
   "id": "f3bcec9a-dca0-476e-bcee-d672bd4973e4",
   "metadata": {},
   "source": [
    "# Agrupar todos"
   ]
  },
  {
   "cell_type": "code",
   "execution_count": 99,
   "id": "2e6bb80c-14ad-4857-a82d-04f7a54b296b",
   "metadata": {},
   "outputs": [
    {
     "name": "stdout",
     "output_type": "stream",
     "text": [
      "estacion\n",
      "AGSAG    22.33\n",
      "ANVAG    22.96\n",
      "CDRAG    22.68\n",
      "CNSAG    22.18\n",
      "LRTBS    29.40\n",
      "MLGBS    27.00\n",
      "PLNBS    27.89\n",
      "RBRBS    20.55\n",
      "SANBS    29.90\n",
      "SARBS    30.25\n",
      "SBABS    29.00\n",
      "Name: tempaire, dtype: float64\n"
     ]
    }
   ],
   "source": [
    "print( temperaturas.groupby(\"estacion\")[\"tempaire\"].mean().round(2) )"
   ]
  },
  {
   "cell_type": "code",
   "execution_count": null,
   "id": "ccd80e1b-a599-41ca-8f36-2c69a2e8c518",
   "metadata": {},
   "outputs": [],
   "source": []
  }
 ],
 "metadata": {
  "kernelspec": {
   "display_name": "Python 3 (ipykernel)",
   "language": "python",
   "name": "python3"
  },
  "language_info": {
   "codemirror_mode": {
    "name": "ipython",
    "version": 3
   },
   "file_extension": ".py",
   "mimetype": "text/x-python",
   "name": "python",
   "nbconvert_exporter": "python",
   "pygments_lexer": "ipython3",
   "version": "3.11.7"
  }
 },
 "nbformat": 4,
 "nbformat_minor": 5
}
